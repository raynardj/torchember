{
 "cells": [
  {
   "cell_type": "markdown",
   "metadata": {},
   "source": [
    "# Map modules to parameters"
   ]
  },
  {
   "cell_type": "code",
   "execution_count": 36,
   "metadata": {},
   "outputs": [],
   "source": [
    "from torchvision.models.alexnet import AlexNet"
   ]
  },
  {
   "cell_type": "code",
   "execution_count": 37,
   "metadata": {},
   "outputs": [],
   "source": [
    "net = AlexNet()"
   ]
  },
  {
   "cell_type": "code",
   "execution_count": 43,
   "metadata": {},
   "outputs": [],
   "source": [
    "def parse_net(module):\n",
    "    Ps = set(module.parameters())\n",
    "    for child in module.children():\n",
    "        Ps-=set(child.parameters())\n",
    "        parse_net(child)\n",
    "    setattr(module,\"weights_owned\",list(Ps))"
   ]
  },
  {
   "cell_type": "code",
   "execution_count": 44,
   "metadata": {},
   "outputs": [],
   "source": [
    "parse_net(net)"
   ]
  },
  {
   "cell_type": "code",
   "execution_count": 53,
   "metadata": {},
   "outputs": [
    {
     "name": "stdout",
     "output_type": "stream",
     "text": [
      ">>> weights owned:\n",
      "AlexNet\n",
      "[]\n",
      "<<<\n",
      ">>> weights owned:\n",
      "Sequential\n",
      "[]\n",
      "<<<\n",
      ">>> weights owned:\n",
      "Conv2d\n",
      "[torch.Size([64, 3, 11, 11]), torch.Size([64])]\n",
      "<<<\n",
      ">>> weights owned:\n",
      "ReLU\n",
      "[]\n",
      "<<<\n",
      ">>> weights owned:\n",
      "MaxPool2d\n",
      "[]\n",
      "<<<\n",
      ">>> weights owned:\n",
      "Conv2d\n",
      "[torch.Size([192, 64, 5, 5]), torch.Size([192])]\n",
      "<<<\n",
      ">>> weights owned:\n",
      "ReLU\n",
      "[]\n",
      "<<<\n",
      ">>> weights owned:\n",
      "MaxPool2d\n",
      "[]\n",
      "<<<\n",
      ">>> weights owned:\n",
      "Conv2d\n",
      "[torch.Size([384, 192, 3, 3]), torch.Size([384])]\n",
      "<<<\n",
      ">>> weights owned:\n",
      "ReLU\n",
      "[]\n",
      "<<<\n",
      ">>> weights owned:\n",
      "Conv2d\n",
      "[torch.Size([256, 384, 3, 3]), torch.Size([256])]\n",
      "<<<\n",
      ">>> weights owned:\n",
      "ReLU\n",
      "[]\n",
      "<<<\n",
      ">>> weights owned:\n",
      "Conv2d\n",
      "[torch.Size([256, 256, 3, 3]), torch.Size([256])]\n",
      "<<<\n",
      ">>> weights owned:\n",
      "ReLU\n",
      "[]\n",
      "<<<\n",
      ">>> weights owned:\n",
      "MaxPool2d\n",
      "[]\n",
      "<<<\n",
      ">>> weights owned:\n",
      "AdaptiveAvgPool2d\n",
      "[]\n",
      "<<<\n",
      ">>> weights owned:\n",
      "Sequential\n",
      "[]\n",
      "<<<\n",
      ">>> weights owned:\n",
      "Dropout\n",
      "[]\n",
      "<<<\n",
      ">>> weights owned:\n",
      "Linear\n",
      "[torch.Size([4096, 9216]), torch.Size([4096])]\n",
      "<<<\n",
      ">>> weights owned:\n",
      "ReLU\n",
      "[]\n",
      "<<<\n",
      ">>> weights owned:\n",
      "Dropout\n",
      "[]\n",
      "<<<\n",
      ">>> weights owned:\n",
      "Linear\n",
      "[torch.Size([4096, 4096]), torch.Size([4096])]\n",
      "<<<\n",
      ">>> weights owned:\n",
      "ReLU\n",
      "[]\n",
      "<<<\n",
      ">>> weights owned:\n",
      "Linear\n",
      "[torch.Size([1000, 4096]), torch.Size([1000])]\n",
      "<<<\n"
     ]
    }
   ],
   "source": [
    "for m in net.modules():\n",
    "    print(\">>> weights owned:\")\n",
    "    print(m.__class__.__name__)\n",
    "    print(list(p.shape for p in m.weights_owned))\n",
    "    print(\"<<<\")"
   ]
  },
  {
   "cell_type": "code",
   "execution_count": null,
   "metadata": {},
   "outputs": [],
   "source": []
  }
 ],
 "metadata": {
  "kernelspec": {
   "display_name": "Python 3",
   "language": "python",
   "name": "python3"
  },
  "language_info": {
   "codemirror_mode": {
    "name": "ipython",
    "version": 3
   },
   "file_extension": ".py",
   "mimetype": "text/x-python",
   "name": "python",
   "nbconvert_exporter": "python",
   "pygments_lexer": "ipython3",
   "version": "3.7.4"
  }
 },
 "nbformat": 4,
 "nbformat_minor": 2
}
