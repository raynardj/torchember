{
 "cells": [
  {
   "cell_type": "markdown",
   "metadata": {},
   "source": [
    "# Torch Ember\n",
    "> Tracking and visualize after the burning pytorch"
   ]
  },
  {
   "cell_type": "markdown",
   "metadata": {},
   "source": [
    "## This framework tracks the pytorch model:\n",
    "\n",
    "* On ```nn.Module``` level\n",
    "* Down to the metrics/ features of all tensors, includes\n",
    "    * inputs/outputs of each module\n",
    "    * weight/grad tensors\n",
    "* By **minimal** extra coding\n",
    "* Besides WebUI, Visualization compatible with **notebook** environment\n",
    "\n",
    "## Other lovely features\n",
    "* Customizable metrics, with easy decorator syntax\n",
    "* Split the tracking log in the way you like, just ```mark(k=v,k1=v2...)```\n",
    "* You can easily switch on/off the tracking:\n",
    "    * Even cost of computation is tiny, torchember don't have to calculate metric for every iteration\n",
    "    * Hence, you can track eg. only the last steps, only each 200 steps .etc"
   ]
  },
  {
   "cell_type": "markdown",
   "metadata": {},
   "source": [
    "## Installation\n",
    "```pip install torchember```"
   ]
  },
  {
   "cell_type": "markdown",
   "metadata": {},
   "source": [
    "## Fast Tutorial"
   ]
  },
  {
   "cell_type": "markdown",
   "metadata": {},
   "source": [
    "* Instant colab tutorial here: <a href=\"https://colab.research.google.com/github/raynardj/torchember/blob/master/nb_test/torchember_instant_tutorial.ipynb\" target=\"_parent\"><img src=\"https://camo.githubusercontent.com/52feade06f2fecbf006889a904d221e6a730c194/68747470733a2f2f636f6c61622e72657365617263682e676f6f676c652e636f6d2f6173736574732f636f6c61622d62616467652e737667\" alt=\"Open In Colab\" data-canonical-src=\"https://colab.research.google.com/assets/colab-badge.svg\"></a>\n",
    "\n",
    "* Full [documentations](https://raynardj.github.io/torchember/)\n",
    "\n",
    "### WebUI intro Video\n",
    "* [video here](https://www.youtube.com/watch?v=2NbXDqcZKPY)\n",
    "\n",
    "![WebUI intro pic](001.png)"
   ]
  },
  {
   "cell_type": "markdown",
   "metadata": {},
   "source": [
    "### Step1, Track your model"
   ]
  },
  {
   "cell_type": "markdown",
   "metadata": {},
   "source": [
    "Place you torch ember tracker on your model"
   ]
  },
  {
   "cell_type": "markdown",
   "metadata": {},
   "source": [
    "```python\n",
    "from torchember.core import torchEmber\n",
    "te = torchEmber(model)\n",
    "```"
   ]
  },
  {
   "cell_type": "markdown",
   "metadata": {},
   "source": [
    "The above can track input and output of every module,The following can track status of every module"
   ]
  },
  {
   "cell_type": "markdown",
   "metadata": {},
   "source": [
    "```python\n",
    "for i in range(1000):\n",
    "    ...\n",
    "    loss.backward()\n",
    "    optimizer.step()\n",
    "    \n",
    "    te.log_model()\n",
    "\n",
    "```"
   ]
  },
  {
   "cell_type": "markdown",
   "metadata": {},
   "source": [
    "Train your model as usual"
   ]
  },
  {
   "cell_type": "markdown",
   "metadata": {},
   "source": [
    "### Step2 Plan A, visualize in notebook\n",
    "For colab, kaggle kernels, there isn't an option to run another service, you can visualize the result in notebook.\n",
    "\n",
    "Of course the following is feasible in usual jupyter notebook.\n",
    "\n",
    "```python\n",
    "from torchember.visual import VisualByTensor\n",
    "\n",
    "vis = VisualByTensor()\n",
    "```\n",
    "*  This extra line of code is for colab\n",
    "```python\n",
    "vis.scatter_plot(vis.ember_sub_df)\n",
    "```"
   ]
  },
  {
   "cell_type": "markdown",
   "metadata": {},
   "source": [
    "### Step2 Plan B, Check the analysis on the WebUI"
   ]
  },
  {
   "cell_type": "markdown",
   "metadata": {},
   "source": [
    "Run the service from terminal\n",
    "```shell\n",
    "$ torchember\n",
    "```\n",
    "The default port will be 8080\n",
    "\n",
    "Or assign a port\n",
    "```shell\n",
    "$ torchember --port=4200\n",
    "```\n",
    "\n",
    "Visit your analysis at ```http://[host]:[port]```"
   ]
  }
 ],
 "metadata": {
  "kernelspec": {
   "display_name": "Python 3",
   "language": "python",
   "name": "python3"
  },
  "language_info": {
   "codemirror_mode": {
    "name": "ipython",
    "version": 3
   },
   "file_extension": ".py",
   "mimetype": "text/x-python",
   "name": "python",
   "nbconvert_exporter": "python",
   "pygments_lexer": "ipython3",
   "version": "3.7.4"
  }
 },
 "nbformat": 4,
 "nbformat_minor": 4
}
