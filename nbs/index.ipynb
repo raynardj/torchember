{
 "cells": [
  {
   "cell_type": "markdown",
   "metadata": {},
   "source": [
    "# Torch Ember\n",
    "> Tracking and visualize after the burning pytorch"
   ]
  },
  {
   "cell_type": "markdown",
   "metadata": {},
   "source": [
    "## This framework tracks the pytorch model:\n",
    "\n",
    "* On ```nn.Module``` level\n",
    "* Down to the metrics/ features of all tensors, includes\n",
    "    * inputs/outputs of each module\n",
    "    * weight/grad tensors\n",
    "* By **minimal** extra coding\n",
    "\n",
    "![WebUI](001.png)\n",
    "\n",
    "## Other lovely features\n",
    "* Customizable metrics, with easy decorator syntax\n",
    "* Split the tracking log in the way you like, just ```mark(k=v,k1=v2...)```\n",
    "* You can easily switch on/off the tracking:\n",
    "    * Even cost of computation is tiny, torchember don't have to calculate metric for every iteration\n",
    "    * Hence, you can track eg. only the last steps, only each 200 steps .etc"
   ]
  },
  {
   "cell_type": "markdown",
   "metadata": {},
   "source": [
    "## Installation\n",
    "```pip install torchember```"
   ]
  },
  {
   "cell_type": "markdown",
   "metadata": {},
   "source": [
    "## Fast Tutorial"
   ]
  },
  {
   "cell_type": "markdown",
   "metadata": {},
   "source": [
    "* **30 seconds** [tutorial](https://github.com/raynardj/torchember/blob/master/nb_test/test_cnn.ipynb)\n",
    "\n",
    "* Full [documentations](https://raynardj.github.io/torchember/)"
   ]
  },
  {
   "cell_type": "markdown",
   "metadata": {},
   "source": [
    "### Step1, Track your model"
   ]
  },
  {
   "cell_type": "markdown",
   "metadata": {},
   "source": [
    "Place you torch ember tracker on your model"
   ]
  },
  {
   "cell_type": "markdown",
   "metadata": {},
   "source": [
    "```python\n",
    "from torchember.core import torchEmber\n",
    "te = torchEmber(model)\n",
    "```"
   ]
  },
  {
   "cell_type": "markdown",
   "metadata": {},
   "source": [
    "The above can track input and output of every module,The following can track status of every module"
   ]
  },
  {
   "cell_type": "markdown",
   "metadata": {},
   "source": [
    "```python\n",
    "for i in range(1000):\n",
    "    ...\n",
    "    loss.backward()\n",
    "    optimizer.step()\n",
    "    \n",
    "    te.log_model()\n",
    "\n",
    "```"
   ]
  },
  {
   "cell_type": "markdown",
   "metadata": {},
   "source": [
    "Train your model as usual"
   ]
  },
  {
   "cell_type": "markdown",
   "metadata": {},
   "source": [
    "### Step2, Check the analysis on the WebUI"
   ]
  },
  {
   "cell_type": "markdown",
   "metadata": {},
   "source": [
    "Run the service from terminal\n",
    "```shell\n",
    "$ torchember\n",
    "```\n",
    "The default port will be 8080\n",
    "\n",
    "Or assign a port\n",
    "```shell\n",
    "$ torchember --port=4200\n",
    "```\n",
    "\n",
    "Visit your analysis at ```http://[host]:[port]```"
   ]
  }
 ],
 "metadata": {
  "kernelspec": {
   "display_name": "Python 3",
   "language": "python",
   "name": "python3"
  },
  "language_info": {
   "codemirror_mode": {
    "name": "ipython",
    "version": 3
   },
   "file_extension": ".py",
   "mimetype": "text/x-python",
   "name": "python",
   "nbconvert_exporter": "python",
   "pygments_lexer": "ipython3",
   "version": "3.7.4"
  }
 },
 "nbformat": 4,
 "nbformat_minor": 4
}
