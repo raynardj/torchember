{
 "cells": [
  {
   "cell_type": "markdown",
   "metadata": {},
   "source": [
    "## Helper Function\n",
    "> Helper functions"
   ]
  },
  {
   "cell_type": "code",
   "execution_count": 1,
   "metadata": {},
   "outputs": [],
   "source": [
    "# default_exp helper"
   ]
  },
  {
   "cell_type": "markdown",
   "metadata": {},
   "source": [
    "## Color loggers"
   ]
  },
  {
   "cell_type": "code",
   "execution_count": 2,
   "metadata": {},
   "outputs": [],
   "source": [
    "# export \n",
    "\n",
    "from types import MethodType\n",
    "class color:\n",
    "   PURPLE = '\\033[95m'\n",
    "   CYAN = '\\033[96m'\n",
    "   DARKCYAN = '\\033[36m'\n",
    "   BLUE = '\\033[94m'\n",
    "   GREEN = '\\033[92m'\n",
    "   YELLOW = '\\033[93m'\n",
    "   RED = '\\033[91m'\n",
    "   BOLD = '\\033[1m'\n",
    "   UNDERLINE = '\\033[4m'\n",
    "   END = '\\033[0m'\n",
    "\n",
    "class tint(object):\n",
    "    def __init__(self, cname):\n",
    "        self.start = getattr(color,cname.upper())\n",
    "    \n",
    "    def __call__(self, txt):\n",
    "        return f\"{self.start}{txt}{color.END}\"\n",
    "    \n",
    "    def __add__(self,txt):\n",
    "        return self.__call__(txt)\n",
    "    \n",
    "    def __or__(self,txt):\n",
    "        print(self.__call__(txt))\n",
    "        return self\n",
    "\n",
    "for c in [\"purple\",\"green\",\"red\",\"blue\",\"yellow\",\"bold\",\"underline\",\"cyan\"]:\n",
    "    setattr(color, c, tint(c))"
   ]
  },
  {
   "cell_type": "code",
   "execution_count": 6,
   "metadata": {},
   "outputs": [
    {
     "name": "stdout",
     "output_type": "stream",
     "text": [
      "\u001b[95mmsg1\u001b[0m\n",
      "\u001b[95m0000123\u001b[0m\n"
     ]
    },
    {
     "data": {
      "text/plain": [
       "<__main__.tint at 0x10931ded0>"
      ]
     },
     "execution_count": 6,
     "metadata": {},
     "output_type": "execute_result"
    }
   ],
   "source": [
    "color.purple|\"msg1\"|\"0000123\""
   ]
  }
 ],
 "metadata": {
  "kernelspec": {
   "display_name": "Python 3",
   "language": "python",
   "name": "python3"
  },
  "language_info": {
   "codemirror_mode": {
    "name": "ipython",
    "version": 3
   },
   "file_extension": ".py",
   "mimetype": "text/x-python",
   "name": "python",
   "nbconvert_exporter": "python",
   "pygments_lexer": "ipython3",
   "version": "3.7.4"
  }
 },
 "nbformat": 4,
 "nbformat_minor": 4
}
