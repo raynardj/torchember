{
 "cells": [
  {
   "cell_type": "markdown",
   "metadata": {},
   "source": [
    "# Helper Function\n",
    "> Helper functions"
   ]
  },
  {
   "cell_type": "code",
   "execution_count": 1,
   "metadata": {},
   "outputs": [],
   "source": [
    "# default_exp helper"
   ]
  },
  {
   "cell_type": "markdown",
   "metadata": {},
   "source": [
    "## Color loggers"
   ]
  },
  {
   "cell_type": "code",
   "execution_count": 2,
   "metadata": {},
   "outputs": [],
   "source": [
    "# export \n",
    "\n",
    "from types import MethodType\n",
    "class color:\n",
    "   PURPLE = '\\033[95m'\n",
    "   CYAN = '\\033[96m'\n",
    "   DARKCYAN = '\\033[36m'\n",
    "   BLUE = '\\033[94m'\n",
    "   GREEN = '\\033[92m'\n",
    "   YELLOW = '\\033[93m'\n",
    "   RED = '\\033[91m'\n",
    "   BOLD = '\\033[1m'\n",
    "   UNDERLINE = '\\033[4m'\n",
    "   END = '\\033[0m'\n",
    "\n",
    "class tint(object):\n",
    "    def __init__(self, cname):\n",
    "        self.start = getattr(color,cname.upper())\n",
    "    \n",
    "    def __call__(self, txt):\n",
    "        return f\"{self.start}{txt}{color.END}\"\n",
    "    \n",
    "    def __add__(self,txt):\n",
    "        return self.__call__(txt)\n",
    "    \n",
    "    def __or__(self,txt):\n",
    "        print(self.__call__(txt))\n",
    "        return self\n",
    "\n",
    "for c in [\"purple\",\"green\",\"red\",\"blue\",\"yellow\",\"bold\",\"underline\",\"cyan\"]:\n",
    "    setattr(color, c, tint(c))"
   ]
  },
  {
   "cell_type": "code",
   "execution_count": 3,
   "metadata": {},
   "outputs": [
    {
     "name": "stdout",
     "output_type": "stream",
     "text": [
      "\u001b[95mmsg1\u001b[0m\n",
      "\u001b[95m0000123\u001b[0m\n"
     ]
    },
    {
     "data": {
      "text/plain": [
       "<__main__.tint at 0x10450ff10>"
      ]
     },
     "execution_count": 3,
     "metadata": {},
     "output_type": "execute_result"
    }
   ],
   "source": [
    "color.purple|\"msg1\"|\"0000123\""
   ]
  },
  {
   "cell_type": "code",
   "execution_count": 5,
   "metadata": {},
   "outputs": [
    {
     "name": "stdout",
     "output_type": "stream",
     "text": [
      "\u001b[94m123\u001b[0m\n"
     ]
    }
   ],
   "source": [
    "print(color.blue(\"123\"))"
   ]
  },
  {
   "cell_type": "markdown",
   "metadata": {},
   "source": [
    "## File, log, data, directory handler"
   ]
  },
  {
   "cell_type": "code",
   "execution_count": 6,
   "metadata": {},
   "outputs": [],
   "source": [
    "# export\n",
    "import os\n",
    "from pathlib import Path\n",
    "import json\n",
    "import pandas as pd\n",
    "from datetime import datetime\n",
    "import torch\n",
    "\n",
    "class tracker(object):\n",
    "    def __init__(self, libname, fname):\n",
    "        self.libname = libname\n",
    "        self.fname = fname\n",
    "        self.home = Path(os.environ['HOME'])\n",
    "        self.dir = self.home/f\".{libname}\"\n",
    "        self.dir.mkdir(exist_ok = True) \n",
    "        self.data = self.dir/\"data\"\n",
    "        self.data.mkdir(exist_ok = True)\n",
    "        self.log = self.dir/\"log\"\n",
    "        self.log.mkdir(exist_ok = True) \n",
    "        self.log_path = self.log/self.fname\n",
    "        self.log_path.mkdir(exist_ok=True)\n",
    "        self.marked = {}\n",
    "        self.mark(init=\"00\")\n",
    "        \n",
    "    def __repr__(self):\n",
    "        return f\"<{self.libname}:{self.fname}>\"\n",
    "        \n",
    "    def mkdir(self, path):\n",
    "        Path(path).mkdir(exist_ok=True)\n",
    "        \n",
    "    def __setitem__(self, fname,dict_):\n",
    "        with open(self.data/f\"{fname}.json\",\"w\") as f: f.write(json.dumps(dict_, indent = 2))\n",
    "\n",
    "    \n",
    "    def __getitem__(self,fname):\n",
    "        try:\n",
    "            return json.loads(open(self.data/f\"{fname}.json\",\"r\").read())\n",
    "        except:\n",
    "            return None\n",
    "        \n",
    "    def logging(self,line):\n",
    "        with open(self.log_file,\"a\") as f :f.write(line+\"\\n\")\n",
    "        return self.log_file\n",
    "    \n",
    "    def mark(self,**kwargs):\n",
    "        self.marked.update(kwargs)\n",
    "        file_name = \"_\".join(f\"{k}-{v}\" for k,v in self.marked.items())\n",
    "        self.log_file = self.log_path/f\"{file_name}.log\"\n",
    "        \n",
    "    def __call__(self,dict_):\n",
    "        \"\"\"\n",
    "        add a dictionary to log\n",
    "        \"\"\"\n",
    "        self.logging(json.dumps(dict_))\n",
    "        return self\n",
    "        \n",
    "    def lines(self):\n",
    "        return list(json.loads(i) for i in open(self.log_file).read().split(\"\\n\")[:-1])\n",
    "    \n",
    "    @property\n",
    "    def ts(self):\n",
    "        return datetime.now().strftime(\"%Y-%m-%d %H:%M:%S\")\n",
    "    \n",
    "class emberTracker(tracker):\n",
    "    def __init__(self, fname):\n",
    "        super().__init__(\"torchember\",fname)\n",
    "        self.latest = self.log/f\"{fname}_latest\"\n",
    "        self.latest_lines = \"\"\n",
    "        \n",
    "    @property\n",
    "    def log_files(self):\n",
    "        return os.listdir(self.log_path)\n",
    "        \n",
    "    def logging(self,line):\n",
    "        with open(self.log_file,\"a\") as f : f.write(\",\"+line)\n",
    "        self.latest_lines+=(line+\"\\n\")\n",
    "        return self.log_file\n",
    "    \n",
    "    def refresh(self):\n",
    "        \"\"\"\n",
    "        lastest always contain the record of the latest batch\n",
    "        \"\"\"\n",
    "        with open(self.latest,\"w\") as f :  f.write(self.latest_lines)\n",
    "        self.latest_lines = \"\"\n",
    "        return self.latest\n",
    "    \n",
    "    def latest_line_list(self):\n",
    "        return list(json.loads(i) for i in open(self.latest).read().split(\"\\n\")[:-1])\n",
    "    \n",
    "    @property\n",
    "    def latest_df(self):\n",
    "        return pd.DataFrame(self.latest_line_list())"
   ]
  },
  {
   "cell_type": "markdown",
   "metadata": {},
   "source": [
    "### Test on the data tracker"
   ]
  },
  {
   "cell_type": "code",
   "execution_count": 11,
   "metadata": {},
   "outputs": [],
   "source": [
    "etrack = emberTracker(\"testmodel\")"
   ]
  },
  {
   "cell_type": "markdown",
   "metadata": {},
   "source": [
    "This is how we record the data within other codes"
   ]
  },
  {
   "cell_type": "code",
   "execution_count": 12,
   "metadata": {},
   "outputs": [],
   "source": [
    "for i in range(10):\n",
    "    etrack({\"col1\":i,\"col2\":i*2,\"col3\":\"hahahha\"})"
   ]
  },
  {
   "cell_type": "markdown",
   "metadata": {},
   "source": [
    "Preview log file"
   ]
  },
  {
   "cell_type": "code",
   "execution_count": 13,
   "metadata": {},
   "outputs": [
    {
     "name": "stdout",
     "output_type": "stream",
     "text": [
      "cat: /Users/salvor/.torchember/log/testmodel: Is a directory\r\n"
     ]
    }
   ],
   "source": [
    "!cat {etrack.log_path}"
   ]
  },
  {
   "cell_type": "markdown",
   "metadata": {},
   "source": [
    "Read log as dataframe"
   ]
  },
  {
   "cell_type": "code",
   "execution_count": 14,
   "metadata": {},
   "outputs": [
    {
     "data": {
      "text/html": [
       "<div>\n",
       "<style scoped>\n",
       "    .dataframe tbody tr th:only-of-type {\n",
       "        vertical-align: middle;\n",
       "    }\n",
       "\n",
       "    .dataframe tbody tr th {\n",
       "        vertical-align: top;\n",
       "    }\n",
       "\n",
       "    .dataframe thead th {\n",
       "        text-align: right;\n",
       "    }\n",
       "</style>\n",
       "<table border=\"1\" class=\"dataframe\">\n",
       "  <thead>\n",
       "    <tr style=\"text-align: right;\">\n",
       "      <th></th>\n",
       "      <th>col1</th>\n",
       "      <th>col2</th>\n",
       "      <th>col3</th>\n",
       "    </tr>\n",
       "  </thead>\n",
       "  <tbody>\n",
       "    <tr>\n",
       "      <th>0</th>\n",
       "      <td>0</td>\n",
       "      <td>0</td>\n",
       "      <td>hahahha</td>\n",
       "    </tr>\n",
       "    <tr>\n",
       "      <th>1</th>\n",
       "      <td>1</td>\n",
       "      <td>2</td>\n",
       "      <td>hahahha</td>\n",
       "    </tr>\n",
       "    <tr>\n",
       "      <th>2</th>\n",
       "      <td>2</td>\n",
       "      <td>4</td>\n",
       "      <td>hahahha</td>\n",
       "    </tr>\n",
       "    <tr>\n",
       "      <th>3</th>\n",
       "      <td>3</td>\n",
       "      <td>6</td>\n",
       "      <td>hahahha</td>\n",
       "    </tr>\n",
       "    <tr>\n",
       "      <th>4</th>\n",
       "      <td>4</td>\n",
       "      <td>8</td>\n",
       "      <td>hahahha</td>\n",
       "    </tr>\n",
       "    <tr>\n",
       "      <th>5</th>\n",
       "      <td>5</td>\n",
       "      <td>10</td>\n",
       "      <td>hahahha</td>\n",
       "    </tr>\n",
       "    <tr>\n",
       "      <th>6</th>\n",
       "      <td>6</td>\n",
       "      <td>12</td>\n",
       "      <td>hahahha</td>\n",
       "    </tr>\n",
       "    <tr>\n",
       "      <th>7</th>\n",
       "      <td>7</td>\n",
       "      <td>14</td>\n",
       "      <td>hahahha</td>\n",
       "    </tr>\n",
       "    <tr>\n",
       "      <th>8</th>\n",
       "      <td>8</td>\n",
       "      <td>16</td>\n",
       "      <td>hahahha</td>\n",
       "    </tr>\n",
       "    <tr>\n",
       "      <th>9</th>\n",
       "      <td>9</td>\n",
       "      <td>18</td>\n",
       "      <td>hahahha</td>\n",
       "    </tr>\n",
       "    <tr>\n",
       "      <th>10</th>\n",
       "      <td>0</td>\n",
       "      <td>0</td>\n",
       "      <td>hahahha</td>\n",
       "    </tr>\n",
       "    <tr>\n",
       "      <th>11</th>\n",
       "      <td>1</td>\n",
       "      <td>2</td>\n",
       "      <td>hahahha</td>\n",
       "    </tr>\n",
       "    <tr>\n",
       "      <th>12</th>\n",
       "      <td>2</td>\n",
       "      <td>4</td>\n",
       "      <td>hahahha</td>\n",
       "    </tr>\n",
       "    <tr>\n",
       "      <th>13</th>\n",
       "      <td>3</td>\n",
       "      <td>6</td>\n",
       "      <td>hahahha</td>\n",
       "    </tr>\n",
       "    <tr>\n",
       "      <th>14</th>\n",
       "      <td>4</td>\n",
       "      <td>8</td>\n",
       "      <td>hahahha</td>\n",
       "    </tr>\n",
       "    <tr>\n",
       "      <th>15</th>\n",
       "      <td>5</td>\n",
       "      <td>10</td>\n",
       "      <td>hahahha</td>\n",
       "    </tr>\n",
       "    <tr>\n",
       "      <th>16</th>\n",
       "      <td>6</td>\n",
       "      <td>12</td>\n",
       "      <td>hahahha</td>\n",
       "    </tr>\n",
       "    <tr>\n",
       "      <th>17</th>\n",
       "      <td>7</td>\n",
       "      <td>14</td>\n",
       "      <td>hahahha</td>\n",
       "    </tr>\n",
       "    <tr>\n",
       "      <th>18</th>\n",
       "      <td>8</td>\n",
       "      <td>16</td>\n",
       "      <td>hahahha</td>\n",
       "    </tr>\n",
       "    <tr>\n",
       "      <th>19</th>\n",
       "      <td>9</td>\n",
       "      <td>18</td>\n",
       "      <td>hahahha</td>\n",
       "    </tr>\n",
       "  </tbody>\n",
       "</table>\n",
       "</div>"
      ],
      "text/plain": [
       "    col1  col2     col3\n",
       "0      0     0  hahahha\n",
       "1      1     2  hahahha\n",
       "2      2     4  hahahha\n",
       "3      3     6  hahahha\n",
       "4      4     8  hahahha\n",
       "5      5    10  hahahha\n",
       "6      6    12  hahahha\n",
       "7      7    14  hahahha\n",
       "8      8    16  hahahha\n",
       "9      9    18  hahahha\n",
       "10     0     0  hahahha\n",
       "11     1     2  hahahha\n",
       "12     2     4  hahahha\n",
       "13     3     6  hahahha\n",
       "14     4     8  hahahha\n",
       "15     5    10  hahahha\n",
       "16     6    12  hahahha\n",
       "17     7    14  hahahha\n",
       "18     8    16  hahahha\n",
       "19     9    18  hahahha"
      ]
     },
     "execution_count": 14,
     "metadata": {},
     "output_type": "execute_result"
    }
   ],
   "source": [
    "etrack.df"
   ]
  },
  {
   "cell_type": "code",
   "execution_count": 15,
   "metadata": {},
   "outputs": [
    {
     "name": "stdout",
     "output_type": "stream",
     "text": [
      "rm: /Users/salvor/.torchember/log/testmodel: is a directory\r\n"
     ]
    }
   ],
   "source": [
    "!rm {etrack.log_path}"
   ]
  },
  {
   "cell_type": "markdown",
   "metadata": {},
   "source": [
    "### Save/ Get JSON data"
   ]
  },
  {
   "cell_type": "markdown",
   "metadata": {},
   "source": [
    "Save dictionary to json data"
   ]
  },
  {
   "cell_type": "code",
   "execution_count": 16,
   "metadata": {},
   "outputs": [],
   "source": [
    "etrack[\"about_this_model\"]= {\n",
    "    \"property1\":1,\n",
    "    \"property2\":False,\n",
    "    \"property3\":\n",
    "        {\"size\":100,\n",
    "         \"speed\":200}\n",
    "    }"
   ]
  },
  {
   "cell_type": "markdown",
   "metadata": {},
   "source": [
    "Read this meta data from json file"
   ]
  },
  {
   "cell_type": "code",
   "execution_count": 17,
   "metadata": {},
   "outputs": [
    {
     "data": {
      "text/plain": [
       "False"
      ]
     },
     "execution_count": 17,
     "metadata": {},
     "output_type": "execute_result"
    }
   ],
   "source": [
    "etrack[\"about_this_model\"][\"property2\"]"
   ]
  },
  {
   "cell_type": "code",
   "execution_count": null,
   "metadata": {},
   "outputs": [],
   "source": []
  }
 ],
 "metadata": {
  "kernelspec": {
   "display_name": "Python 3",
   "language": "python",
   "name": "python3"
  },
  "language_info": {
   "codemirror_mode": {
    "name": "ipython",
    "version": 3
   },
   "file_extension": ".py",
   "mimetype": "text/x-python",
   "name": "python",
   "nbconvert_exporter": "python",
   "pygments_lexer": "ipython3",
   "version": "3.7.4"
  }
 },
 "nbformat": 4,
 "nbformat_minor": 4
}
