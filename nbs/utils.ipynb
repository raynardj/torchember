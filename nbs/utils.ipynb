{
 "cells": [
  {
   "cell_type": "markdown",
   "metadata": {},
   "source": [
    "# Utilities\n",
    "> Build utilities for flask"
   ]
  },
  {
   "cell_type": "code",
   "execution_count": null,
   "metadata": {},
   "outputs": [],
   "source": [
    "# default_exp utils"
   ]
  },
  {
   "cell_type": "code",
   "execution_count": 7,
   "metadata": {},
   "outputs": [],
   "source": [
    "# export\n",
    "import os\n",
    "from pathlib import Path\n",
    "import json\n",
    "import pandas as pd"
   ]
  },
  {
   "cell_type": "code",
   "execution_count": 5,
   "metadata": {},
   "outputs": [],
   "source": [
    "# export\n",
    "HOME = Path(os.environ[\"HOME\"])\n",
    "EMBER = HOME/\".torchember\"\n",
    "DATA = EMBER/\"data\"\n",
    "LOG = EMBER/\"LOG\"\n",
    "def check_existance():\n",
    "    if DATA.exists()==False:\n",
    "        return False\n",
    "    if LOG.exists()==False:\n",
    "        return False\n",
    "    else:\n",
    "        return True\n",
    "    "
   ]
  },
  {
   "cell_type": "markdown",
   "metadata": {},
   "source": [
    "Check if the data file exists, if not, use torch ember in your pytorch modeling first according to the short tutorial"
   ]
  },
  {
   "cell_type": "code",
   "execution_count": 6,
   "metadata": {},
   "outputs": [
    {
     "data": {
      "text/plain": [
       "True"
      ]
     },
     "execution_count": 6,
     "metadata": {},
     "output_type": "execute_result"
    }
   ],
   "source": [
    "check_existance()"
   ]
  },
  {
   "cell_type": "code",
   "execution_count": 14,
   "metadata": {},
   "outputs": [],
   "source": [
    "# export\n",
    "def get_ember_list():\n",
    "    if check_existance()== False:\n",
    "        return None\n",
    "    else:\n",
    "        return  list(i for i in os.listdir(DATA) if i[:5]==\"base_\")"
   ]
  },
  {
   "cell_type": "code",
   "execution_count": 29,
   "metadata": {},
   "outputs": [
    {
     "data": {
      "text/plain": [
       "['base_AlexNet_20200211_230327.json',\n",
       " 'base_AlexNet_20200211_192928.json',\n",
       " 'base_AlexNet_20200209_183014.json',\n",
       " 'base_AlexNet_20200211_193437.json',\n",
       " 'base_AlexNet_20200209_200003.json']"
      ]
     },
     "execution_count": 29,
     "metadata": {},
     "output_type": "execute_result"
    }
   ],
   "source": [
    "get_ember_list()[:5]"
   ]
  },
  {
   "cell_type": "code",
   "execution_count": 52,
   "metadata": {},
   "outputs": [],
   "source": [
    "# export\n",
    "def unpack_meta(fname):\n",
    "    f = open(DATA/fname,\"r\")\n",
    "    dict_ = json.loads(f.read())\n",
    "    f.close()\n",
    "    dict_[\"name\"] = fname[5:-5]\n",
    "    return dict_\n",
    "\n",
    "def get_ember_df(ember_list):\n",
    "    df = pd.DataFrame(list(unpack_meta(i) for i in ember_list))\n",
    "    df = df.sort_values(by = \"start\",ascending = False)\n",
    "    return df.reset_index().drop(\"index\",axis=1)"
   ]
  },
  {
   "cell_type": "code",
   "execution_count": 53,
   "metadata": {},
   "outputs": [
    {
     "data": {
      "text/html": [
       "<div>\n",
       "<style scoped>\n",
       "    .dataframe tbody tr th:only-of-type {\n",
       "        vertical-align: middle;\n",
       "    }\n",
       "\n",
       "    .dataframe tbody tr th {\n",
       "        vertical-align: top;\n",
       "    }\n",
       "\n",
       "    .dataframe thead th {\n",
       "        text-align: right;\n",
       "    }\n",
       "</style>\n",
       "<table border=\"1\" class=\"dataframe\">\n",
       "  <thead>\n",
       "    <tr style=\"text-align: right;\">\n",
       "      <th></th>\n",
       "      <th>start</th>\n",
       "      <th>user</th>\n",
       "      <th>name</th>\n",
       "    </tr>\n",
       "  </thead>\n",
       "  <tbody>\n",
       "    <tr>\n",
       "      <th>0</th>\n",
       "      <td>2020-02-11 23:07:43</td>\n",
       "      <td>salvor</td>\n",
       "      <td>AlexNet_20200211_230743</td>\n",
       "    </tr>\n",
       "    <tr>\n",
       "      <th>1</th>\n",
       "      <td>2020-02-11 23:07:40</td>\n",
       "      <td>salvor</td>\n",
       "      <td>AlexNet_20200211_230740</td>\n",
       "    </tr>\n",
       "    <tr>\n",
       "      <th>2</th>\n",
       "      <td>2020-02-11 23:06:14</td>\n",
       "      <td>salvor</td>\n",
       "      <td>AlexNet_20200211_230614</td>\n",
       "    </tr>\n",
       "    <tr>\n",
       "      <th>3</th>\n",
       "      <td>2020-02-11 23:06:09</td>\n",
       "      <td>salvor</td>\n",
       "      <td>AlexNet_20200211_230609</td>\n",
       "    </tr>\n",
       "    <tr>\n",
       "      <th>4</th>\n",
       "      <td>2020-02-11 23:04:37</td>\n",
       "      <td>salvor</td>\n",
       "      <td>AlexNet_20200211_230437</td>\n",
       "    </tr>\n",
       "  </tbody>\n",
       "</table>\n",
       "</div>"
      ],
      "text/plain": [
       "                 start    user                     name\n",
       "0  2020-02-11 23:07:43  salvor  AlexNet_20200211_230743\n",
       "1  2020-02-11 23:07:40  salvor  AlexNet_20200211_230740\n",
       "2  2020-02-11 23:06:14  salvor  AlexNet_20200211_230614\n",
       "3  2020-02-11 23:06:09  salvor  AlexNet_20200211_230609\n",
       "4  2020-02-11 23:04:37  salvor  AlexNet_20200211_230437"
      ]
     },
     "execution_count": 53,
     "metadata": {},
     "output_type": "execute_result"
    }
   ],
   "source": [
    "df = get_ember_df(get_ember_list())\n",
    "df.head(5)"
   ]
  },
  {
   "cell_type": "markdown",
   "metadata": {},
   "source": [
    "### Ember Reader\n",
    "A reading handler to process Torch Ember data"
   ]
  },
  {
   "cell_type": "code",
   "execution_count": 12,
   "metadata": {},
   "outputs": [],
   "source": [
    "# export\n",
    "from torchember.core import emberTracker\n",
    "\n",
    "class emberReader(object):\n",
    "    def __init__(self, name):\n",
    "        self.name = name\n",
    "        self.t = emberTracker(name)\n",
    "        self.structure = self.t[f\"structure_{self.name}\"]\n",
    "        self.base = self.t[f\"base_{self.name}\"]"
   ]
  },
  {
   "cell_type": "code",
   "execution_count": 18,
   "metadata": {},
   "outputs": [],
   "source": [
    "er = emberReader(\"AlexNet_20200211_230743\")"
   ]
  },
  {
   "cell_type": "code",
   "execution_count": 19,
   "metadata": {},
   "outputs": [
    {
     "data": {
      "text/plain": [
       "{'name': 'model(AlexNet)',\n",
       " 'short': 'model(AlexNet)',\n",
       " 'children': [{'name': 'model(AlexNet).features(Sequential)',\n",
       "   'short': 'features(Sequential)',\n",
       "   'children': [{'name': 'model(AlexNet).features(Sequential).0(Conv2d)',\n",
       "     'short': '0(Conv2d)'},\n",
       "    {'name': 'model(AlexNet).features(Sequential).1(ReLU)',\n",
       "     'short': '1(ReLU)'},\n",
       "    {'name': 'model(AlexNet).features(Sequential).2(MaxPool2d)',\n",
       "     'short': '2(MaxPool2d)'},\n",
       "    {'name': 'model(AlexNet).features(Sequential).3(Conv2d)',\n",
       "     'short': '3(Conv2d)'},\n",
       "    {'name': 'model(AlexNet).features(Sequential).4(ReLU)',\n",
       "     'short': '4(ReLU)'},\n",
       "    {'name': 'model(AlexNet).features(Sequential).5(MaxPool2d)',\n",
       "     'short': '5(MaxPool2d)'},\n",
       "    {'name': 'model(AlexNet).features(Sequential).6(Conv2d)',\n",
       "     'short': '6(Conv2d)'},\n",
       "    {'name': 'model(AlexNet).features(Sequential).7(ReLU)',\n",
       "     'short': '7(ReLU)'},\n",
       "    {'name': 'model(AlexNet).features(Sequential).8(Conv2d)',\n",
       "     'short': '8(Conv2d)'},\n",
       "    {'name': 'model(AlexNet).features(Sequential).9(ReLU)',\n",
       "     'short': '9(ReLU)'},\n",
       "    {'name': 'model(AlexNet).features(Sequential).10(Conv2d)',\n",
       "     'short': '10(Conv2d)'},\n",
       "    {'name': 'model(AlexNet).features(Sequential).11(ReLU)',\n",
       "     'short': '11(ReLU)'},\n",
       "    {'name': 'model(AlexNet).features(Sequential).12(MaxPool2d)',\n",
       "     'short': '12(MaxPool2d)'}]},\n",
       "  {'name': 'model(AlexNet).avgpool(AdaptiveAvgPool2d)',\n",
       "   'short': 'avgpool(AdaptiveAvgPool2d)'},\n",
       "  {'name': 'model(AlexNet).classifier(Sequential)',\n",
       "   'short': 'classifier(Sequential)',\n",
       "   'children': [{'name': 'model(AlexNet).classifier(Sequential).0(Dropout)',\n",
       "     'short': '0(Dropout)'},\n",
       "    {'name': 'model(AlexNet).classifier(Sequential).1(Linear)',\n",
       "     'short': '1(Linear)'},\n",
       "    {'name': 'model(AlexNet).classifier(Sequential).2(ReLU)',\n",
       "     'short': '2(ReLU)'},\n",
       "    {'name': 'model(AlexNet).classifier(Sequential).3(Dropout)',\n",
       "     'short': '3(Dropout)'},\n",
       "    {'name': 'model(AlexNet).classifier(Sequential).4(Linear)',\n",
       "     'short': '4(Linear)'},\n",
       "    {'name': 'model(AlexNet).classifier(Sequential).5(ReLU)',\n",
       "     'short': '5(ReLU)'},\n",
       "    {'name': 'model(AlexNet).classifier(Sequential).6(Linear)',\n",
       "     'short': '6(Linear)'}]}]}"
      ]
     },
     "execution_count": 19,
     "metadata": {},
     "output_type": "execute_result"
    }
   ],
   "source": [
    "er.structure"
   ]
  },
  {
   "cell_type": "code",
   "execution_count": 20,
   "metadata": {},
   "outputs": [
    {
     "data": {
      "text/plain": [
       "{'start': '2020-02-11 23:07:43', 'user': 'salvor'}"
      ]
     },
     "execution_count": 20,
     "metadata": {},
     "output_type": "execute_result"
    }
   ],
   "source": [
    "er.base"
   ]
  },
  {
   "cell_type": "code",
   "execution_count": 21,
   "metadata": {},
   "outputs": [
    {
     "data": {
      "text/html": [
       "<div>\n",
       "<style scoped>\n",
       "    .dataframe tbody tr th:only-of-type {\n",
       "        vertical-align: middle;\n",
       "    }\n",
       "\n",
       "    .dataframe tbody tr th {\n",
       "        vertical-align: top;\n",
       "    }\n",
       "\n",
       "    .dataframe thead th {\n",
       "        text-align: right;\n",
       "    }\n",
       "</style>\n",
       "<table border=\"1\" class=\"dataframe\">\n",
       "  <thead>\n",
       "    <tr style=\"text-align: right;\">\n",
       "      <th></th>\n",
       "      <th>num</th>\n",
       "      <th>row_min</th>\n",
       "      <th>module</th>\n",
       "      <th>ts</th>\n",
       "      <th>ttype</th>\n",
       "      <th>tname</th>\n",
       "      <th>row_max</th>\n",
       "    </tr>\n",
       "  </thead>\n",
       "  <tbody>\n",
       "    <tr>\n",
       "      <th>0</th>\n",
       "      <td>301056</td>\n",
       "      <td>[-1.9999666213989258, -1.999962568283081]</td>\n",
       "      <td>model(AlexNet)</td>\n",
       "      <td>2020-02-11 23:17:25</td>\n",
       "      <td>input</td>\n",
       "      <td>x</td>\n",
       "      <td>NaN</td>\n",
       "    </tr>\n",
       "    <tr>\n",
       "      <th>1</th>\n",
       "      <td>301056</td>\n",
       "      <td>[-1.9999666213989258, -1.999962568283081]</td>\n",
       "      <td>model(AlexNet).features(Sequential)</td>\n",
       "      <td>2020-02-11 23:17:25</td>\n",
       "      <td>input</td>\n",
       "      <td>input</td>\n",
       "      <td>NaN</td>\n",
       "    </tr>\n",
       "    <tr>\n",
       "      <th>2</th>\n",
       "      <td>301056</td>\n",
       "      <td>[-1.9999666213989258, -1.999962568283081]</td>\n",
       "      <td>model(AlexNet).features(Sequential).0(Conv2d)</td>\n",
       "      <td>2020-02-11 23:17:25</td>\n",
       "      <td>input</td>\n",
       "      <td>input</td>\n",
       "      <td>NaN</td>\n",
       "    </tr>\n",
       "    <tr>\n",
       "      <th>3</th>\n",
       "      <td>23232</td>\n",
       "      <td>NaN</td>\n",
       "      <td>model(AlexNet).features(Sequential).0(Conv2d)</td>\n",
       "      <td>2020-02-11 23:17:25</td>\n",
       "      <td>weight</td>\n",
       "      <td>weight_0</td>\n",
       "      <td>[0.05245402455329895, 0.05220779776573181, 0.0...</td>\n",
       "    </tr>\n",
       "    <tr>\n",
       "      <th>4</th>\n",
       "      <td>23232</td>\n",
       "      <td>NaN</td>\n",
       "      <td>model(AlexNet).features(Sequential).0(Conv2d)</td>\n",
       "      <td>2020-02-11 23:17:25</td>\n",
       "      <td>weight_grad</td>\n",
       "      <td>grad_0</td>\n",
       "      <td>[3.595597809180617e-05, 3.1668449082644656e-05...</td>\n",
       "    </tr>\n",
       "    <tr>\n",
       "      <th>...</th>\n",
       "      <td>...</td>\n",
       "      <td>...</td>\n",
       "      <td>...</td>\n",
       "      <td>...</td>\n",
       "      <td>...</td>\n",
       "      <td>...</td>\n",
       "      <td>...</td>\n",
       "    </tr>\n",
       "    <tr>\n",
       "      <th>75</th>\n",
       "      <td>1000</td>\n",
       "      <td>NaN</td>\n",
       "      <td>model(AlexNet).classifier(Sequential).6(Linear)</td>\n",
       "      <td>2020-02-11 23:17:26</td>\n",
       "      <td>weight</td>\n",
       "      <td>weight_1</td>\n",
       "      <td>[-0.010682493448257446, 0.014477085322141647, ...</td>\n",
       "    </tr>\n",
       "    <tr>\n",
       "      <th>76</th>\n",
       "      <td>1000</td>\n",
       "      <td>NaN</td>\n",
       "      <td>model(AlexNet).classifier(Sequential).6(Linear)</td>\n",
       "      <td>2020-02-11 23:17:26</td>\n",
       "      <td>weight_grad</td>\n",
       "      <td>grad_1</td>\n",
       "      <td>[0.003000000026077032, 0.003000000026077032, 0...</td>\n",
       "    </tr>\n",
       "    <tr>\n",
       "      <th>77</th>\n",
       "      <td>2000</td>\n",
       "      <td>[-0.03675267845392227, -0.039796292781829834]</td>\n",
       "      <td>model(AlexNet).classifier(Sequential).6(Linear)</td>\n",
       "      <td>2020-02-11 23:17:26</td>\n",
       "      <td>output</td>\n",
       "      <td>output_0</td>\n",
       "      <td>NaN</td>\n",
       "    </tr>\n",
       "    <tr>\n",
       "      <th>78</th>\n",
       "      <td>2000</td>\n",
       "      <td>[-0.03675267845392227, -0.039796292781829834]</td>\n",
       "      <td>model(AlexNet).classifier(Sequential)</td>\n",
       "      <td>2020-02-11 23:17:26</td>\n",
       "      <td>output</td>\n",
       "      <td>output_0</td>\n",
       "      <td>NaN</td>\n",
       "    </tr>\n",
       "    <tr>\n",
       "      <th>79</th>\n",
       "      <td>2000</td>\n",
       "      <td>[-0.03675267845392227, -0.039796292781829834]</td>\n",
       "      <td>model(AlexNet)</td>\n",
       "      <td>2020-02-11 23:17:26</td>\n",
       "      <td>output</td>\n",
       "      <td>output_0</td>\n",
       "      <td>NaN</td>\n",
       "    </tr>\n",
       "  </tbody>\n",
       "</table>\n",
       "<p>80 rows × 7 columns</p>\n",
       "</div>"
      ],
      "text/plain": [
       "       num                                        row_min                                           module                   ts        ttype     tname                                            row_max\n",
       "0   301056      [-1.9999666213989258, -1.999962568283081]                                   model(AlexNet)  2020-02-11 23:17:25        input         x                                                NaN\n",
       "1   301056      [-1.9999666213989258, -1.999962568283081]              model(AlexNet).features(Sequential)  2020-02-11 23:17:25        input     input                                                NaN\n",
       "2   301056      [-1.9999666213989258, -1.999962568283081]    model(AlexNet).features(Sequential).0(Conv2d)  2020-02-11 23:17:25        input     input                                                NaN\n",
       "3    23232                                            NaN    model(AlexNet).features(Sequential).0(Conv2d)  2020-02-11 23:17:25       weight  weight_0  [0.05245402455329895, 0.05220779776573181, 0.0...\n",
       "4    23232                                            NaN    model(AlexNet).features(Sequential).0(Conv2d)  2020-02-11 23:17:25  weight_grad    grad_0  [3.595597809180617e-05, 3.1668449082644656e-05...\n",
       "..     ...                                            ...                                              ...                  ...          ...       ...                                                ...\n",
       "75    1000                                            NaN  model(AlexNet).classifier(Sequential).6(Linear)  2020-02-11 23:17:26       weight  weight_1  [-0.010682493448257446, 0.014477085322141647, ...\n",
       "76    1000                                            NaN  model(AlexNet).classifier(Sequential).6(Linear)  2020-02-11 23:17:26  weight_grad    grad_1  [0.003000000026077032, 0.003000000026077032, 0...\n",
       "77    2000  [-0.03675267845392227, -0.039796292781829834]  model(AlexNet).classifier(Sequential).6(Linear)  2020-02-11 23:17:26       output  output_0                                                NaN\n",
       "78    2000  [-0.03675267845392227, -0.039796292781829834]            model(AlexNet).classifier(Sequential)  2020-02-11 23:17:26       output  output_0                                                NaN\n",
       "79    2000  [-0.03675267845392227, -0.039796292781829834]                                   model(AlexNet)  2020-02-11 23:17:26       output  output_0                                                NaN\n",
       "\n",
       "[80 rows x 7 columns]"
      ]
     },
     "execution_count": 21,
     "metadata": {},
     "output_type": "execute_result"
    }
   ],
   "source": [
    "er.t.latest_df"
   ]
  },
  {
   "cell_type": "code",
   "execution_count": null,
   "metadata": {},
   "outputs": [],
   "source": []
  }
 ],
 "metadata": {
  "kernelspec": {
   "display_name": "Python 3",
   "language": "python",
   "name": "python3"
  },
  "language_info": {
   "codemirror_mode": {
    "name": "ipython",
    "version": 3
   },
   "file_extension": ".py",
   "mimetype": "text/x-python",
   "name": "python",
   "nbconvert_exporter": "python",
   "pygments_lexer": "ipython3",
   "version": "3.7.4"
  }
 },
 "nbformat": 4,
 "nbformat_minor": 4
}
