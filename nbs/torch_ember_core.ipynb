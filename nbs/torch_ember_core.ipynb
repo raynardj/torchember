{
 "cells": [
  {
   "cell_type": "markdown",
   "metadata": {},
   "source": [
    "# Torch Ember Core\n",
    "> Analyzing How Model Improves"
   ]
  },
  {
   "cell_type": "code",
   "execution_count": 1,
   "metadata": {},
   "outputs": [],
   "source": [
    "# default_exp core"
   ]
  },
  {
   "cell_type": "markdown",
   "metadata": {},
   "source": [
    "In this tutorial, we'll use AlexNet as example, \n",
    "We can load AlexNet from ```torchvision```\n",
    "\n",
    "By:\n",
    "* Lai Wei\n",
    "* Xiaochen Zhang"
   ]
  },
  {
   "cell_type": "code",
   "execution_count": 2,
   "metadata": {},
   "outputs": [],
   "source": [
    "from torchvision.models.alexnet import AlexNet\n",
    "import torch\n"
   ]
  },
  {
   "cell_type": "code",
   "execution_count": 3,
   "metadata": {},
   "outputs": [],
   "source": [
    "model = AlexNet()"
   ]
  },
  {
   "cell_type": "markdown",
   "metadata": {},
   "source": [
    "#### Sample data\n",
    "Create a sample data, something like 2 normalized images in a batch, size 224,224"
   ]
  },
  {
   "cell_type": "code",
   "execution_count": 4,
   "metadata": {},
   "outputs": [],
   "source": [
    "samp = (torch.rand(2,3,224,224)-1)*2"
   ]
  },
  {
   "cell_type": "code",
   "execution_count": 5,
   "metadata": {},
   "outputs": [
    {
     "data": {
      "text/plain": [
       "torch.Size([2, 1000])"
      ]
     },
     "execution_count": 5,
     "metadata": {},
     "output_type": "execute_result"
    }
   ],
   "source": [
    "model(samp).shape"
   ]
  },
  {
   "cell_type": "markdown",
   "metadata": {},
   "source": [
    "## File, log, data, directory handler"
   ]
  },
  {
   "cell_type": "code",
   "execution_count": 6,
   "metadata": {},
   "outputs": [],
   "source": [
    "# export\n",
    "import os\n",
    "from pathlib import Path\n",
    "import json\n",
    "import pandas as pd\n",
    "from datetime import datetime\n",
    "import torch\n",
    "from torchember.helper import color\n",
    "from functools import partial\n",
    "\n",
    "class tracker(object):\n",
    "    def __init__(self, libname, fname):\n",
    "        self.libname = libname\n",
    "        self.fname = fname\n",
    "        self.home = Path(os.environ['HOME'])\n",
    "        self.dir = self.home/f\".{libname}\"\n",
    "        self.dir.mkdir(exist_ok = True) \n",
    "        self.data = self.dir/\"data\"\n",
    "        self.data.mkdir(exist_ok = True) \n",
    "        self.log = self.dir/\"log\"\n",
    "        self.log.mkdir(exist_ok = True) \n",
    "        self.log_path = self.log/self.fname\n",
    "        \n",
    "    def __repr__(self):\n",
    "        return f\"<{self.libname}:{self.fname}>\"\n",
    "        \n",
    "    def mkdir(self, path):\n",
    "        Path(path).mkdir(exist_ok=True)\n",
    "        \n",
    "    def __setitem__(self, fname,dict_):\n",
    "        with open(self.data/f\"{fname}.json\",\"w\") as f: f.write(json.dumps(dict_, indent = 2))\n",
    "\n",
    "    \n",
    "    def __getitem__(self,fname):\n",
    "        return json.loads(open(self.data/f\"{fname}.json\",\"r\").read())\n",
    "        \n",
    "    def logging(self,line):\n",
    "        with open(self.log_path,\"a\") as f :f.write(line+\"\\n\")\n",
    "        return self.log_path\n",
    "        \n",
    "    def __add__(self,dict_):\n",
    "        \"\"\"\n",
    "        add a dictionary to log\n",
    "        \"\"\"\n",
    "        self.logging(json.dumps(dict_))\n",
    "        return self\n",
    "        \n",
    "    def lines(self):\n",
    "        return list(json.loads(i) for i in open(self.log_path).read().split(\"\\n\")[:-1])\n",
    "    \n",
    "    @property\n",
    "    def ts(self):\n",
    "        return datetime.now().strftime(\"%Y-%m-%d %H:%M:%S\")\n",
    "    \n",
    "    @property\n",
    "    def df(self):\n",
    "        return pd.DataFrame(self.lines())\n",
    "    \n",
    "class emberTracker(tracker):\n",
    "    def __init__(self, fname):\n",
    "        super().__init__(\"torchember\",fname)\n",
    "        self.latest = self.log/f\"{fname}_latest\"\n",
    "        self.latest_lines = \"\"\n",
    "        \n",
    "    def logging(self,line):\n",
    "        with open(self.log_path,\"a\") as f : f.write(line+\"\\n\")\n",
    "        self.latest_lines+=(line+\"\\n\")\n",
    "        return self.log_path\n",
    "    \n",
    "    def refresh(self):\n",
    "        \"\"\"\n",
    "        lastest always contain the record of the latest batch\n",
    "        \"\"\"\n",
    "        with open(self.latest,\"w\") as f :  f.write(self.latest_lines)\n",
    "        self.latest_lines = \"\"\n",
    "        return self.latest\n",
    "    \n",
    "    def latest_line_list(self):\n",
    "        return list(json.loads(i) for i in open(self.latest).read().split(\"\\n\")[:-1])\n",
    "    \n",
    "    @property\n",
    "    def latest_df(self):\n",
    "        return pd.DataFrame(self.latest_line_list())\n",
    "        "
   ]
  },
  {
   "cell_type": "markdown",
   "metadata": {},
   "source": [
    "### Test on the data tracker"
   ]
  },
  {
   "cell_type": "code",
   "execution_count": 7,
   "metadata": {},
   "outputs": [],
   "source": [
    "etrack = emberTracker(\"testmodel\")"
   ]
  },
  {
   "cell_type": "markdown",
   "metadata": {},
   "source": [
    "This is how we record the data within other codes"
   ]
  },
  {
   "cell_type": "code",
   "execution_count": 8,
   "metadata": {},
   "outputs": [],
   "source": [
    "for i in range(10):\n",
    "    etrack+{\"col1\":i,\"col2\":i*2,\"col3\":\"hahahha\"}"
   ]
  },
  {
   "cell_type": "markdown",
   "metadata": {},
   "source": [
    "Preview log file"
   ]
  },
  {
   "cell_type": "code",
   "execution_count": 9,
   "metadata": {},
   "outputs": [
    {
     "name": "stdout",
     "output_type": "stream",
     "text": [
      "{\"col1\": 0, \"col2\": 0, \"col3\": \"hahahha\"}\r\n",
      "{\"col1\": 1, \"col2\": 2, \"col3\": \"hahahha\"}\r\n",
      "{\"col1\": 2, \"col2\": 4, \"col3\": \"hahahha\"}\r\n",
      "{\"col1\": 3, \"col2\": 6, \"col3\": \"hahahha\"}\r\n",
      "{\"col1\": 4, \"col2\": 8, \"col3\": \"hahahha\"}\r\n",
      "{\"col1\": 5, \"col2\": 10, \"col3\": \"hahahha\"}\r\n",
      "{\"col1\": 6, \"col2\": 12, \"col3\": \"hahahha\"}\r\n",
      "{\"col1\": 7, \"col2\": 14, \"col3\": \"hahahha\"}\r\n",
      "{\"col1\": 8, \"col2\": 16, \"col3\": \"hahahha\"}\r\n",
      "{\"col1\": 9, \"col2\": 18, \"col3\": \"hahahha\"}\r\n"
     ]
    }
   ],
   "source": [
    "!cat {etrack.log_path}"
   ]
  },
  {
   "cell_type": "markdown",
   "metadata": {},
   "source": [
    "Read log as dataframe"
   ]
  },
  {
   "cell_type": "code",
   "execution_count": 10,
   "metadata": {},
   "outputs": [
    {
     "data": {
      "text/html": [
       "<div>\n",
       "<style scoped>\n",
       "    .dataframe tbody tr th:only-of-type {\n",
       "        vertical-align: middle;\n",
       "    }\n",
       "\n",
       "    .dataframe tbody tr th {\n",
       "        vertical-align: top;\n",
       "    }\n",
       "\n",
       "    .dataframe thead th {\n",
       "        text-align: right;\n",
       "    }\n",
       "</style>\n",
       "<table border=\"1\" class=\"dataframe\">\n",
       "  <thead>\n",
       "    <tr style=\"text-align: right;\">\n",
       "      <th></th>\n",
       "      <th>col1</th>\n",
       "      <th>col2</th>\n",
       "      <th>col3</th>\n",
       "    </tr>\n",
       "  </thead>\n",
       "  <tbody>\n",
       "    <tr>\n",
       "      <th>0</th>\n",
       "      <td>0</td>\n",
       "      <td>0</td>\n",
       "      <td>hahahha</td>\n",
       "    </tr>\n",
       "    <tr>\n",
       "      <th>1</th>\n",
       "      <td>1</td>\n",
       "      <td>2</td>\n",
       "      <td>hahahha</td>\n",
       "    </tr>\n",
       "    <tr>\n",
       "      <th>2</th>\n",
       "      <td>2</td>\n",
       "      <td>4</td>\n",
       "      <td>hahahha</td>\n",
       "    </tr>\n",
       "    <tr>\n",
       "      <th>3</th>\n",
       "      <td>3</td>\n",
       "      <td>6</td>\n",
       "      <td>hahahha</td>\n",
       "    </tr>\n",
       "    <tr>\n",
       "      <th>4</th>\n",
       "      <td>4</td>\n",
       "      <td>8</td>\n",
       "      <td>hahahha</td>\n",
       "    </tr>\n",
       "    <tr>\n",
       "      <th>5</th>\n",
       "      <td>5</td>\n",
       "      <td>10</td>\n",
       "      <td>hahahha</td>\n",
       "    </tr>\n",
       "    <tr>\n",
       "      <th>6</th>\n",
       "      <td>6</td>\n",
       "      <td>12</td>\n",
       "      <td>hahahha</td>\n",
       "    </tr>\n",
       "    <tr>\n",
       "      <th>7</th>\n",
       "      <td>7</td>\n",
       "      <td>14</td>\n",
       "      <td>hahahha</td>\n",
       "    </tr>\n",
       "    <tr>\n",
       "      <th>8</th>\n",
       "      <td>8</td>\n",
       "      <td>16</td>\n",
       "      <td>hahahha</td>\n",
       "    </tr>\n",
       "    <tr>\n",
       "      <th>9</th>\n",
       "      <td>9</td>\n",
       "      <td>18</td>\n",
       "      <td>hahahha</td>\n",
       "    </tr>\n",
       "  </tbody>\n",
       "</table>\n",
       "</div>"
      ],
      "text/plain": [
       "   col1  col2     col3\n",
       "0     0     0  hahahha\n",
       "1     1     2  hahahha\n",
       "2     2     4  hahahha\n",
       "3     3     6  hahahha\n",
       "4     4     8  hahahha\n",
       "5     5    10  hahahha\n",
       "6     6    12  hahahha\n",
       "7     7    14  hahahha\n",
       "8     8    16  hahahha\n",
       "9     9    18  hahahha"
      ]
     },
     "execution_count": 10,
     "metadata": {},
     "output_type": "execute_result"
    }
   ],
   "source": [
    "etrack.df"
   ]
  },
  {
   "cell_type": "code",
   "execution_count": 11,
   "metadata": {},
   "outputs": [],
   "source": [
    "!rm {etrack.log_path}"
   ]
  },
  {
   "cell_type": "markdown",
   "metadata": {},
   "source": [
    "### Save/ Get JSON data"
   ]
  },
  {
   "cell_type": "markdown",
   "metadata": {},
   "source": [
    "Save dictionary to json data"
   ]
  },
  {
   "cell_type": "code",
   "execution_count": 12,
   "metadata": {},
   "outputs": [],
   "source": [
    "etrack[\"about_this_model\"]= {\n",
    "    \"property1\":1,\n",
    "    \"property2\":False,\n",
    "    \"property3\":\n",
    "        {\"size\":100,\n",
    "         \"speed\":200}\n",
    "    }"
   ]
  },
  {
   "cell_type": "markdown",
   "metadata": {},
   "source": [
    "Read this meta data from json file"
   ]
  },
  {
   "cell_type": "code",
   "execution_count": 13,
   "metadata": {},
   "outputs": [
    {
     "data": {
      "text/plain": [
       "False"
      ]
     },
     "execution_count": 13,
     "metadata": {},
     "output_type": "execute_result"
    }
   ],
   "source": [
    "etrack[\"about_this_model\"][\"property2\"]"
   ]
  },
  {
   "cell_type": "markdown",
   "metadata": {},
   "source": [
    "## Torch Ember Core"
   ]
  },
  {
   "cell_type": "markdown",
   "metadata": {},
   "source": [
    "The essence of torch ember, is to place trackers within modules.\n",
    "\n",
    "It will decorate the ```forward``` function to achieve following purpose\n",
    "\n",
    "* What variables come in/out of the module\n",
    "* The happening sequence, containing relationships between sub-modules\n",
    "* The statistics we want for further analysis, eg.\n",
    "    * Min, Max, Mean, Std, of input / outpout tensors\n",
    "    * Min, Max, Mean, Std, of model weights at this iteration\n",
    "    * Min, Max, Mean, Std, of model weights grad at this iteration"
   ]
  },
  {
   "cell_type": "code",
   "execution_count": 16,
   "metadata": {},
   "outputs": [],
   "source": [
    "# export\n",
    "from types import MethodType\n",
    "from datetime import datetime\n",
    "\n",
    "class moduleTrack(object):\n",
    "    def __init__(self,module, name=None, root_module = False):\n",
    "        self.module = module\n",
    "        module.module_tracker = self\n",
    "        \n",
    "        self.base_module = True if len(list(module.modules()))==1 else False\n",
    "        self.root_module = root_module\n",
    "        \n",
    "        self.name = name if name else module.__class__.__name__  \n",
    "        #self.name = f'{name}_tracker' if name else f'{module.__class__.__name__}_tracker'\n",
    "        self.id = id(module)\n",
    "        self.children = []\n",
    "        \n",
    "    def __repr__(self):\n",
    "        rt = f\"<{self.name} @ {hex(self.id)}>\"\n",
    "        if hasattr(self,\"input_dt\"):\n",
    "            rt+=f'\\n\\t[Inputs]{\",\".join(list(k+\" \"+str(list(v.shape)) for k,v in self.input_dt.items()))}'\n",
    "        if hasattr(self,\"output_dt\"):\n",
    "            rt+=f'\\n\\t[Outputs]{\",\".join(list(str(list(v.shape)) for v in self.output_dt))}'\n",
    "        return rt\n",
    "\n",
    "def get_stats(tensor):\n",
    "    \"\"\"\n",
    "    The default statistic method, it will capture\n",
    "    shape of the tensor\n",
    "    mean, std, max, min of the tensor\n",
    "    this will return a dictionary\n",
    "    \"\"\"\n",
    "    return {\"shape\":list(tensor.shape),\n",
    "            \"mean\":tensor.mean().item(), \n",
    "            \"std\":tensor.std().item(), \n",
    "            \"max\":tensor.max().item(), \n",
    "            \"min\":tensor.min().item(),\n",
    "            \"cnt_zero\": ((tensor>-1e-10) & (tensor < 1e-10)).sum().item()}\n",
    "\n",
    "\n",
    "    \n",
    "class torchEmber(object):\n",
    "    def __init__(self, model, verbose = True):\n",
    "        color.green|\"start analyzing model\"\n",
    "        self.modules = dict()\n",
    "        self.verbose = verbose\n",
    "        self.model = model\n",
    "        \n",
    "        if hasattr(model,\"disarm\"):\n",
    "            model.disarm()\n",
    "        \n",
    "        self.model_name = self.model.__class__.__name__\n",
    "        \n",
    "        fname = f\"{self.model_name}_{self.ts_str}\"\n",
    "        self.fname = fname\n",
    "        \n",
    "        self.t = emberTracker(fname)\n",
    "        self.current_mt = None\n",
    "        self.mt_log = []\n",
    "        \n",
    "        self.arm()\n",
    "        \n",
    "        self.legit_ttypes = [\"in\",\"out\",\"weight\"]\n",
    "        for ttype in self.legit_ttypes: self.set_metric(ttype)(get_stats)\n",
    "\n",
    "        if self.verbose: \n",
    "            color.green|f\"[INFO][{self.ts_str}]Creating meta data\"\n",
    "        self.t[f\"base_{fname}\"]={\"start\":self.t.ts, \n",
    "                                 \"user\":os.environ[\"USER\"]}\n",
    "        self.t[f\"vis_{fname}\"] = {\"vis_type\":\"standard\"}\n",
    "        self.t[f\"structure_{fname}\"] = self.mod_tree()\n",
    "        \n",
    "    def parse_module(self,model, name, root_module = False):\n",
    "        name = f\"{name}({model.__class__.__name__})\"\n",
    "        mt = moduleTrack(model, name, root_module)\n",
    "        self.modules[name]= mt\n",
    "        model.forward = self.module_register(name,model)\n",
    "        \n",
    "        for cname,children in model.named_children():\n",
    "            children_mt = self.parse_module(children,f\"{name}.{cname}\" )\n",
    "            children_mt.parent = mt\n",
    "            mt.children.append(children_mt)\n",
    "        return mt\n",
    "    \n",
    "    def mod_tree(self):\n",
    "        \"\"\"\n",
    "        Return the tree of module\n",
    "        \"\"\"\n",
    "        return self.mod_tree_parse(self.model.module_tracker)\n",
    "        \n",
    "    def mod_tree_parse(self,mt):\n",
    "        rt = {\"name\":mt.name, \"short\":mt.name.split(\".\")[-1]}\n",
    "        if len(mt.children)>0:\n",
    "            rt.update({\"children\":list(self.mod_tree_parse(i) for i in mt.children)})\n",
    "        return rt\n",
    "                \n",
    "        \n",
    "    @property\n",
    "    def ts_str(self):\n",
    "        return datetime.now().strftime(\"%Y%m%d_%H%M%S\")\n",
    "    \n",
    "    @property\n",
    "    def ts(self):\n",
    "        return datetime.now().strftime(\"%Y-%m-%d %H:%M:%S\")\n",
    "        \n",
    "    def arm(self):\n",
    "        \"\"\"\n",
    "        arming the tracing function to self.model\n",
    "        \"\"\"\n",
    "        if self.verbose: \n",
    "            color.yellow|f\"[ARMING][START]{self.ts}\"\n",
    "        self.parse_module(self.model,\"model\", root_module = True)\n",
    "        if self.verbose: \n",
    "            color.yellow|f\"[ARMING][SUCCESS]{self.ts}\"\n",
    "            \n",
    "    def disarm(self):\n",
    "        \"\"\"remove the tracing function\"\"\"\n",
    "        for m in self.modules.values():\n",
    "            if self.verbose: \n",
    "                color.blue|f\"[DISARM][{m.name}]{self.ts}\"\n",
    "            self.recover(m)\n",
    "        color.blue|f\"[DISARM][DONE]{self.ts}\"\n",
    "            \n",
    "    def recover(self, m):\n",
    "        if hasattr(m.module.forward,\"former\"):\n",
    "            m.module.forward = m.module.forward.former\n",
    "            \n",
    "    def rearm(self):\n",
    "        self.disarm()\n",
    "        self.arm()\n",
    "    \n",
    "    def reg_check(self,m):\n",
    "        \"\"\"\n",
    "        register check\n",
    "        \"\"\"\n",
    "        if hasattr(m.forward,\"armed\"):\n",
    "            if m.forward.armed:\n",
    "                return False\n",
    "        return True\n",
    "    \n",
    "    def set_metric(self, ttype):\n",
    "        assert ttype in self.legit_ttypes, f\"ttype has to be one of {str(self.ttypes)}\"\n",
    "        def deco(f):\n",
    "            setattr(self,f\"record_{ttype}_core\",self.record_core(f))\n",
    "            return f\n",
    "        return deco\n",
    "    \n",
    "    def add_record(f):\n",
    "        def _inner(self, f_name): return partial(f, self, f_name)\n",
    "        return _inner\n",
    "    \n",
    "    @add_record\n",
    "    def record_core(self, f_name, tensor, extra_data):\n",
    "        \"\"\"\n",
    "        extra_data: dict\n",
    "        \"\"\"\n",
    "        dict_= f_name(tensor)\n",
    "        dict_.update(extra_data)\n",
    "        self.t+ dict_\n",
    "        return dict_\n",
    "    \n",
    "    def record_input(self,mt):\n",
    "        \"\"\"\n",
    "        Record the input tensors of the moduleTrack\n",
    "        \"\"\"\n",
    "        for k,tensor in mt.input_dt.items():\n",
    "            self.record_in_core(tensor,\n",
    "                          extra_data = {\"module\":mt.name,\"ts\":self.t.ts,\"ttype\":\"input\",\"tname\":k})\n",
    "            \n",
    "    def record_output(self,mt):\n",
    "        \"\"\"\n",
    "        Record the output tensors of the moduleTrack\n",
    "        \"\"\"\n",
    "        for i in range(len(mt.output_dt)):\n",
    "            tensor = mt.output_dt[i]\n",
    "            self.record_out_core(tensor,\n",
    "                          extra_data = {\"module\":mt.name,\"ts\":self.t.ts,\"ttype\":\"output\",\"tname\":f\"output_{i}\"})\n",
    "            \n",
    "    def record_weight(self,mt):\n",
    "        \"\"\"\n",
    "        Record the weights of the moduleTrack\n",
    "        \"\"\"\n",
    "        if mt.base_module:\n",
    "            i = 0\n",
    "            for p in mt.module.parameters():\n",
    "                self.record_weight_core(p.data, \n",
    "                              extra_data = {\"module\":mt.name,\"ts\":self.t.ts,\n",
    "                                            \"ttype\":\"weight\",\"tname\":f\"weight_{i}\"})\n",
    "                if p.requires_grad and (p.grad!= None) :\n",
    "                    self.record_weight_core(p.grad, \n",
    "                              extra_data = {\"module\":mt.name,\"ts\":self.t.ts,\n",
    "                                            \"ttype\":\"weight_grad\",\"tname\":f\"grad_{i}\"})\n",
    "                i+=1\n",
    "            \n",
    "    def module_register(self,name,m):\n",
    "        if self.reg_check(m) == False: return m.forward\n",
    "        f = m.forward\n",
    "        mt = self.modules[name]\n",
    "        vs = f.__code__.co_varnames\n",
    "        mt.vars = vs[1:]\n",
    "        if self.verbose: \n",
    "            color.cyan | f\"[BUILD FORWARD][{name}]{self.ts}\"\n",
    "        def new_forward(*args,**kwargs):\n",
    "            mt.input_dt = dict(zip(mt.vars[:len(args)],args))\n",
    "            mt.input_dt.update(kwargs)\n",
    "            \n",
    "            self.record_input(mt)\n",
    "            self.current_mt = mt\n",
    "            if mt.root_module: self.mt_log=[]\n",
    "            self.mt_log.append(f\"enter {mt.name}\")\n",
    "            \n",
    "            # ------execution of the function------\n",
    "            outputs = f(*args,**kwargs)\n",
    "            self.record_weight(mt)\n",
    "            # ------execution of the function------\n",
    "            \n",
    "            self.mt_log.append(f\"exit {mt.name}\")\n",
    "            \n",
    "            if type(outputs) in [list,tuple]:\n",
    "                mt.output_dt = [outputs]\n",
    "            else:\n",
    "                mt.output_dt = [outputs,]\n",
    "            self.record_output(mt)\n",
    "            \n",
    "            if mt.root_module:\n",
    "                self.t.refresh() # start a new \"latest\" file\n",
    "            \n",
    "            return outputs\n",
    "        \n",
    "        setattr(new_forward,\"armed\",True)\n",
    "        setattr(new_forward,\"former\",f)\n",
    "        \n",
    "        def disarm(this):\n",
    "            \"\"\"\n",
    "            Remove the trackers placed by torchember\n",
    "            run model.disarm()\n",
    "            \"\"\"\n",
    "            self.disarm()\n",
    "            return this\n",
    "        setattr(mt.module, \"disarm\",MethodType(disarm,mt.module))\n",
    "        return new_forward"
   ]
  },
  {
   "cell_type": "markdown",
   "metadata": {},
   "source": [
    "### Tracking a model !!"
   ]
  },
  {
   "cell_type": "markdown",
   "metadata": {},
   "source": [
    "Start tracking a model"
   ]
  },
  {
   "cell_type": "code",
   "execution_count": 17,
   "metadata": {},
   "outputs": [
    {
     "name": "stdout",
     "output_type": "stream",
     "text": [
      "\u001b[92mstart analyzing model\u001b[0m\n",
      "\u001b[94m[DISARM][model(AlexNet)]2020-02-24 22:46:54\u001b[0m\n",
      "\u001b[94m[DISARM][model(AlexNet).features(Sequential)]2020-02-24 22:46:54\u001b[0m\n",
      "\u001b[94m[DISARM][model(AlexNet).features(Sequential).0(Conv2d)]2020-02-24 22:46:54\u001b[0m\n",
      "\u001b[94m[DISARM][model(AlexNet).features(Sequential).1(ReLU)]2020-02-24 22:46:54\u001b[0m\n",
      "\u001b[94m[DISARM][model(AlexNet).features(Sequential).2(MaxPool2d)]2020-02-24 22:46:54\u001b[0m\n",
      "\u001b[94m[DISARM][model(AlexNet).features(Sequential).3(Conv2d)]2020-02-24 22:46:54\u001b[0m\n",
      "\u001b[94m[DISARM][model(AlexNet).features(Sequential).4(ReLU)]2020-02-24 22:46:54\u001b[0m\n",
      "\u001b[94m[DISARM][model(AlexNet).features(Sequential).5(MaxPool2d)]2020-02-24 22:46:54\u001b[0m\n",
      "\u001b[94m[DISARM][model(AlexNet).features(Sequential).6(Conv2d)]2020-02-24 22:46:54\u001b[0m\n",
      "\u001b[94m[DISARM][model(AlexNet).features(Sequential).7(ReLU)]2020-02-24 22:46:54\u001b[0m\n",
      "\u001b[94m[DISARM][model(AlexNet).features(Sequential).8(Conv2d)]2020-02-24 22:46:54\u001b[0m\n",
      "\u001b[94m[DISARM][model(AlexNet).features(Sequential).9(ReLU)]2020-02-24 22:46:54\u001b[0m\n",
      "\u001b[94m[DISARM][model(AlexNet).features(Sequential).10(Conv2d)]2020-02-24 22:46:54\u001b[0m\n",
      "\u001b[94m[DISARM][model(AlexNet).features(Sequential).11(ReLU)]2020-02-24 22:46:54\u001b[0m\n",
      "\u001b[94m[DISARM][model(AlexNet).features(Sequential).12(MaxPool2d)]2020-02-24 22:46:54\u001b[0m\n",
      "\u001b[94m[DISARM][model(AlexNet).avgpool(AdaptiveAvgPool2d)]2020-02-24 22:46:54\u001b[0m\n",
      "\u001b[94m[DISARM][model(AlexNet).classifier(Sequential)]2020-02-24 22:46:54\u001b[0m\n",
      "\u001b[94m[DISARM][model(AlexNet).classifier(Sequential).0(Dropout)]2020-02-24 22:46:54\u001b[0m\n",
      "\u001b[94m[DISARM][model(AlexNet).classifier(Sequential).1(Linear)]2020-02-24 22:46:54\u001b[0m\n",
      "\u001b[94m[DISARM][model(AlexNet).classifier(Sequential).2(ReLU)]2020-02-24 22:46:54\u001b[0m\n",
      "\u001b[94m[DISARM][model(AlexNet).classifier(Sequential).3(Dropout)]2020-02-24 22:46:54\u001b[0m\n",
      "\u001b[94m[DISARM][model(AlexNet).classifier(Sequential).4(Linear)]2020-02-24 22:46:54\u001b[0m\n",
      "\u001b[94m[DISARM][model(AlexNet).classifier(Sequential).5(ReLU)]2020-02-24 22:46:54\u001b[0m\n",
      "\u001b[94m[DISARM][model(AlexNet).classifier(Sequential).6(Linear)]2020-02-24 22:46:54\u001b[0m\n",
      "\u001b[94m[DISARM][DONE]2020-02-24 22:46:54\u001b[0m\n",
      "\u001b[93m[ARMING][START]2020-02-24 22:46:54\u001b[0m\n",
      "\u001b[96m[BUILD FORWARD][model(AlexNet)]2020-02-24 22:46:54\u001b[0m\n",
      "\u001b[96m[BUILD FORWARD][model(AlexNet).features(Sequential)]2020-02-24 22:46:54\u001b[0m\n",
      "\u001b[96m[BUILD FORWARD][model(AlexNet).features(Sequential).0(Conv2d)]2020-02-24 22:46:54\u001b[0m\n",
      "\u001b[96m[BUILD FORWARD][model(AlexNet).features(Sequential).1(ReLU)]2020-02-24 22:46:54\u001b[0m\n",
      "\u001b[96m[BUILD FORWARD][model(AlexNet).features(Sequential).2(MaxPool2d)]2020-02-24 22:46:54\u001b[0m\n",
      "\u001b[96m[BUILD FORWARD][model(AlexNet).features(Sequential).3(Conv2d)]2020-02-24 22:46:54\u001b[0m\n",
      "\u001b[96m[BUILD FORWARD][model(AlexNet).features(Sequential).4(ReLU)]2020-02-24 22:46:54\u001b[0m\n",
      "\u001b[96m[BUILD FORWARD][model(AlexNet).features(Sequential).5(MaxPool2d)]2020-02-24 22:46:54\u001b[0m\n",
      "\u001b[96m[BUILD FORWARD][model(AlexNet).features(Sequential).6(Conv2d)]2020-02-24 22:46:54\u001b[0m\n",
      "\u001b[96m[BUILD FORWARD][model(AlexNet).features(Sequential).7(ReLU)]2020-02-24 22:46:54\u001b[0m\n",
      "\u001b[96m[BUILD FORWARD][model(AlexNet).features(Sequential).8(Conv2d)]2020-02-24 22:46:54\u001b[0m\n",
      "\u001b[96m[BUILD FORWARD][model(AlexNet).features(Sequential).9(ReLU)]2020-02-24 22:46:54\u001b[0m\n",
      "\u001b[96m[BUILD FORWARD][model(AlexNet).features(Sequential).10(Conv2d)]2020-02-24 22:46:54\u001b[0m\n",
      "\u001b[96m[BUILD FORWARD][model(AlexNet).features(Sequential).11(ReLU)]2020-02-24 22:46:54\u001b[0m\n",
      "\u001b[96m[BUILD FORWARD][model(AlexNet).features(Sequential).12(MaxPool2d)]2020-02-24 22:46:54\u001b[0m\n",
      "\u001b[96m[BUILD FORWARD][model(AlexNet).avgpool(AdaptiveAvgPool2d)]2020-02-24 22:46:54\u001b[0m\n",
      "\u001b[96m[BUILD FORWARD][model(AlexNet).classifier(Sequential)]2020-02-24 22:46:54\u001b[0m\n",
      "\u001b[96m[BUILD FORWARD][model(AlexNet).classifier(Sequential).0(Dropout)]2020-02-24 22:46:54\u001b[0m\n",
      "\u001b[96m[BUILD FORWARD][model(AlexNet).classifier(Sequential).1(Linear)]2020-02-24 22:46:54\u001b[0m\n",
      "\u001b[96m[BUILD FORWARD][model(AlexNet).classifier(Sequential).2(ReLU)]2020-02-24 22:46:54\u001b[0m\n",
      "\u001b[96m[BUILD FORWARD][model(AlexNet).classifier(Sequential).3(Dropout)]2020-02-24 22:46:54\u001b[0m\n",
      "\u001b[96m[BUILD FORWARD][model(AlexNet).classifier(Sequential).4(Linear)]2020-02-24 22:46:54\u001b[0m\n",
      "\u001b[96m[BUILD FORWARD][model(AlexNet).classifier(Sequential).5(ReLU)]2020-02-24 22:46:54\u001b[0m\n",
      "\u001b[96m[BUILD FORWARD][model(AlexNet).classifier(Sequential).6(Linear)]2020-02-24 22:46:54\u001b[0m\n",
      "\u001b[93m[ARMING][SUCCESS]2020-02-24 22:46:54\u001b[0m\n",
      "\u001b[92m[INFO][20200224_224654]Creating meta data\u001b[0m\n"
     ]
    }
   ],
   "source": [
    "te = torchEmber(model)"
   ]
  },
  {
   "cell_type": "markdown",
   "metadata": {},
   "source": [
    "Remove the trackers we placed"
   ]
  },
  {
   "cell_type": "code",
   "execution_count": 18,
   "metadata": {},
   "outputs": [
    {
     "name": "stdout",
     "output_type": "stream",
     "text": [
      "\u001b[94m[DISARM][model(AlexNet)]2020-02-24 22:46:58\u001b[0m\n",
      "\u001b[94m[DISARM][model(AlexNet).features(Sequential)]2020-02-24 22:46:58\u001b[0m\n",
      "\u001b[94m[DISARM][model(AlexNet).features(Sequential).0(Conv2d)]2020-02-24 22:46:58\u001b[0m\n",
      "\u001b[94m[DISARM][model(AlexNet).features(Sequential).1(ReLU)]2020-02-24 22:46:58\u001b[0m\n",
      "\u001b[94m[DISARM][model(AlexNet).features(Sequential).2(MaxPool2d)]2020-02-24 22:46:58\u001b[0m\n",
      "\u001b[94m[DISARM][model(AlexNet).features(Sequential).3(Conv2d)]2020-02-24 22:46:58\u001b[0m\n",
      "\u001b[94m[DISARM][model(AlexNet).features(Sequential).4(ReLU)]2020-02-24 22:46:58\u001b[0m\n",
      "\u001b[94m[DISARM][model(AlexNet).features(Sequential).5(MaxPool2d)]2020-02-24 22:46:58\u001b[0m\n",
      "\u001b[94m[DISARM][model(AlexNet).features(Sequential).6(Conv2d)]2020-02-24 22:46:58\u001b[0m\n",
      "\u001b[94m[DISARM][model(AlexNet).features(Sequential).7(ReLU)]2020-02-24 22:46:58\u001b[0m\n",
      "\u001b[94m[DISARM][model(AlexNet).features(Sequential).8(Conv2d)]2020-02-24 22:46:58\u001b[0m\n",
      "\u001b[94m[DISARM][model(AlexNet).features(Sequential).9(ReLU)]2020-02-24 22:46:58\u001b[0m\n",
      "\u001b[94m[DISARM][model(AlexNet).features(Sequential).10(Conv2d)]2020-02-24 22:46:58\u001b[0m\n",
      "\u001b[94m[DISARM][model(AlexNet).features(Sequential).11(ReLU)]2020-02-24 22:46:58\u001b[0m\n",
      "\u001b[94m[DISARM][model(AlexNet).features(Sequential).12(MaxPool2d)]2020-02-24 22:46:58\u001b[0m\n",
      "\u001b[94m[DISARM][model(AlexNet).avgpool(AdaptiveAvgPool2d)]2020-02-24 22:46:58\u001b[0m\n",
      "\u001b[94m[DISARM][model(AlexNet).classifier(Sequential)]2020-02-24 22:46:58\u001b[0m\n",
      "\u001b[94m[DISARM][model(AlexNet).classifier(Sequential).0(Dropout)]2020-02-24 22:46:58\u001b[0m\n",
      "\u001b[94m[DISARM][model(AlexNet).classifier(Sequential).1(Linear)]2020-02-24 22:46:58\u001b[0m\n",
      "\u001b[94m[DISARM][model(AlexNet).classifier(Sequential).2(ReLU)]2020-02-24 22:46:58\u001b[0m\n",
      "\u001b[94m[DISARM][model(AlexNet).classifier(Sequential).3(Dropout)]2020-02-24 22:46:58\u001b[0m\n",
      "\u001b[94m[DISARM][model(AlexNet).classifier(Sequential).4(Linear)]2020-02-24 22:46:58\u001b[0m\n",
      "\u001b[94m[DISARM][model(AlexNet).classifier(Sequential).5(ReLU)]2020-02-24 22:46:58\u001b[0m\n",
      "\u001b[94m[DISARM][model(AlexNet).classifier(Sequential).6(Linear)]2020-02-24 22:46:58\u001b[0m\n",
      "\u001b[94m[DISARM][DONE]2020-02-24 22:46:58\u001b[0m\n"
     ]
    }
   ],
   "source": [
    "model = model.disarm()"
   ]
  },
  {
   "cell_type": "markdown",
   "metadata": {},
   "source": [
    "Or like this"
   ]
  },
  {
   "cell_type": "code",
   "execution_count": 19,
   "metadata": {},
   "outputs": [
    {
     "name": "stdout",
     "output_type": "stream",
     "text": [
      "\u001b[94m[DISARM][model(AlexNet)]2020-02-24 22:47:00\u001b[0m\n",
      "\u001b[94m[DISARM][model(AlexNet).features(Sequential)]2020-02-24 22:47:00\u001b[0m\n",
      "\u001b[94m[DISARM][model(AlexNet).features(Sequential).0(Conv2d)]2020-02-24 22:47:00\u001b[0m\n",
      "\u001b[94m[DISARM][model(AlexNet).features(Sequential).1(ReLU)]2020-02-24 22:47:00\u001b[0m\n",
      "\u001b[94m[DISARM][model(AlexNet).features(Sequential).2(MaxPool2d)]2020-02-24 22:47:00\u001b[0m\n",
      "\u001b[94m[DISARM][model(AlexNet).features(Sequential).3(Conv2d)]2020-02-24 22:47:00\u001b[0m\n",
      "\u001b[94m[DISARM][model(AlexNet).features(Sequential).4(ReLU)]2020-02-24 22:47:00\u001b[0m\n",
      "\u001b[94m[DISARM][model(AlexNet).features(Sequential).5(MaxPool2d)]2020-02-24 22:47:00\u001b[0m\n",
      "\u001b[94m[DISARM][model(AlexNet).features(Sequential).6(Conv2d)]2020-02-24 22:47:00\u001b[0m\n",
      "\u001b[94m[DISARM][model(AlexNet).features(Sequential).7(ReLU)]2020-02-24 22:47:00\u001b[0m\n",
      "\u001b[94m[DISARM][model(AlexNet).features(Sequential).8(Conv2d)]2020-02-24 22:47:00\u001b[0m\n",
      "\u001b[94m[DISARM][model(AlexNet).features(Sequential).9(ReLU)]2020-02-24 22:47:00\u001b[0m\n",
      "\u001b[94m[DISARM][model(AlexNet).features(Sequential).10(Conv2d)]2020-02-24 22:47:00\u001b[0m\n",
      "\u001b[94m[DISARM][model(AlexNet).features(Sequential).11(ReLU)]2020-02-24 22:47:00\u001b[0m\n",
      "\u001b[94m[DISARM][model(AlexNet).features(Sequential).12(MaxPool2d)]2020-02-24 22:47:00\u001b[0m\n",
      "\u001b[94m[DISARM][model(AlexNet).avgpool(AdaptiveAvgPool2d)]2020-02-24 22:47:00\u001b[0m\n",
      "\u001b[94m[DISARM][model(AlexNet).classifier(Sequential)]2020-02-24 22:47:00\u001b[0m\n",
      "\u001b[94m[DISARM][model(AlexNet).classifier(Sequential).0(Dropout)]2020-02-24 22:47:00\u001b[0m\n",
      "\u001b[94m[DISARM][model(AlexNet).classifier(Sequential).1(Linear)]2020-02-24 22:47:00\u001b[0m\n",
      "\u001b[94m[DISARM][model(AlexNet).classifier(Sequential).2(ReLU)]2020-02-24 22:47:00\u001b[0m\n",
      "\u001b[94m[DISARM][model(AlexNet).classifier(Sequential).3(Dropout)]2020-02-24 22:47:00\u001b[0m\n",
      "\u001b[94m[DISARM][model(AlexNet).classifier(Sequential).4(Linear)]2020-02-24 22:47:00\u001b[0m\n",
      "\u001b[94m[DISARM][model(AlexNet).classifier(Sequential).5(ReLU)]2020-02-24 22:47:00\u001b[0m\n",
      "\u001b[94m[DISARM][model(AlexNet).classifier(Sequential).6(Linear)]2020-02-24 22:47:00\u001b[0m\n",
      "\u001b[94m[DISARM][DONE]2020-02-24 22:47:00\u001b[0m\n"
     ]
    }
   ],
   "source": [
    "te.disarm()"
   ]
  },
  {
   "cell_type": "markdown",
   "metadata": {},
   "source": [
    "Okay, refresh the tracker"
   ]
  },
  {
   "cell_type": "code",
   "execution_count": 20,
   "metadata": {},
   "outputs": [
    {
     "name": "stdout",
     "output_type": "stream",
     "text": [
      "\u001b[94m[DISARM][model(AlexNet)]2020-02-24 22:47:02\u001b[0m\n",
      "\u001b[94m[DISARM][model(AlexNet).features(Sequential)]2020-02-24 22:47:02\u001b[0m\n",
      "\u001b[94m[DISARM][model(AlexNet).features(Sequential).0(Conv2d)]2020-02-24 22:47:02\u001b[0m\n",
      "\u001b[94m[DISARM][model(AlexNet).features(Sequential).1(ReLU)]2020-02-24 22:47:02\u001b[0m\n",
      "\u001b[94m[DISARM][model(AlexNet).features(Sequential).2(MaxPool2d)]2020-02-24 22:47:02\u001b[0m\n",
      "\u001b[94m[DISARM][model(AlexNet).features(Sequential).3(Conv2d)]2020-02-24 22:47:02\u001b[0m\n",
      "\u001b[94m[DISARM][model(AlexNet).features(Sequential).4(ReLU)]2020-02-24 22:47:02\u001b[0m\n",
      "\u001b[94m[DISARM][model(AlexNet).features(Sequential).5(MaxPool2d)]2020-02-24 22:47:02\u001b[0m\n",
      "\u001b[94m[DISARM][model(AlexNet).features(Sequential).6(Conv2d)]2020-02-24 22:47:02\u001b[0m\n",
      "\u001b[94m[DISARM][model(AlexNet).features(Sequential).7(ReLU)]2020-02-24 22:47:02\u001b[0m\n",
      "\u001b[94m[DISARM][model(AlexNet).features(Sequential).8(Conv2d)]2020-02-24 22:47:02\u001b[0m\n",
      "\u001b[94m[DISARM][model(AlexNet).features(Sequential).9(ReLU)]2020-02-24 22:47:02\u001b[0m\n",
      "\u001b[94m[DISARM][model(AlexNet).features(Sequential).10(Conv2d)]2020-02-24 22:47:02\u001b[0m\n",
      "\u001b[94m[DISARM][model(AlexNet).features(Sequential).11(ReLU)]2020-02-24 22:47:02\u001b[0m\n",
      "\u001b[94m[DISARM][model(AlexNet).features(Sequential).12(MaxPool2d)]2020-02-24 22:47:02\u001b[0m\n",
      "\u001b[94m[DISARM][model(AlexNet).avgpool(AdaptiveAvgPool2d)]2020-02-24 22:47:02\u001b[0m\n",
      "\u001b[94m[DISARM][model(AlexNet).classifier(Sequential)]2020-02-24 22:47:02\u001b[0m\n",
      "\u001b[94m[DISARM][model(AlexNet).classifier(Sequential).0(Dropout)]2020-02-24 22:47:02\u001b[0m\n",
      "\u001b[94m[DISARM][model(AlexNet).classifier(Sequential).1(Linear)]2020-02-24 22:47:02\u001b[0m\n",
      "\u001b[94m[DISARM][model(AlexNet).classifier(Sequential).2(ReLU)]2020-02-24 22:47:02\u001b[0m\n",
      "\u001b[94m[DISARM][model(AlexNet).classifier(Sequential).3(Dropout)]2020-02-24 22:47:02\u001b[0m\n",
      "\u001b[94m[DISARM][model(AlexNet).classifier(Sequential).4(Linear)]2020-02-24 22:47:02\u001b[0m\n",
      "\u001b[94m[DISARM][model(AlexNet).classifier(Sequential).5(ReLU)]2020-02-24 22:47:02\u001b[0m\n",
      "\u001b[94m[DISARM][model(AlexNet).classifier(Sequential).6(Linear)]2020-02-24 22:47:02\u001b[0m\n",
      "\u001b[94m[DISARM][DONE]2020-02-24 22:47:02\u001b[0m\n",
      "\u001b[93m[ARMING][START]2020-02-24 22:47:02\u001b[0m\n",
      "\u001b[96m[BUILD FORWARD][model(AlexNet)]2020-02-24 22:47:02\u001b[0m\n",
      "\u001b[96m[BUILD FORWARD][model(AlexNet).features(Sequential)]2020-02-24 22:47:02\u001b[0m\n",
      "\u001b[96m[BUILD FORWARD][model(AlexNet).features(Sequential).0(Conv2d)]2020-02-24 22:47:02\u001b[0m\n",
      "\u001b[96m[BUILD FORWARD][model(AlexNet).features(Sequential).1(ReLU)]2020-02-24 22:47:02\u001b[0m\n",
      "\u001b[96m[BUILD FORWARD][model(AlexNet).features(Sequential).2(MaxPool2d)]2020-02-24 22:47:02\u001b[0m\n",
      "\u001b[96m[BUILD FORWARD][model(AlexNet).features(Sequential).3(Conv2d)]2020-02-24 22:47:02\u001b[0m\n",
      "\u001b[96m[BUILD FORWARD][model(AlexNet).features(Sequential).4(ReLU)]2020-02-24 22:47:02\u001b[0m\n",
      "\u001b[96m[BUILD FORWARD][model(AlexNet).features(Sequential).5(MaxPool2d)]2020-02-24 22:47:02\u001b[0m\n",
      "\u001b[96m[BUILD FORWARD][model(AlexNet).features(Sequential).6(Conv2d)]2020-02-24 22:47:02\u001b[0m\n",
      "\u001b[96m[BUILD FORWARD][model(AlexNet).features(Sequential).7(ReLU)]2020-02-24 22:47:02\u001b[0m\n",
      "\u001b[96m[BUILD FORWARD][model(AlexNet).features(Sequential).8(Conv2d)]2020-02-24 22:47:02\u001b[0m\n",
      "\u001b[96m[BUILD FORWARD][model(AlexNet).features(Sequential).9(ReLU)]2020-02-24 22:47:02\u001b[0m\n",
      "\u001b[96m[BUILD FORWARD][model(AlexNet).features(Sequential).10(Conv2d)]2020-02-24 22:47:02\u001b[0m\n",
      "\u001b[96m[BUILD FORWARD][model(AlexNet).features(Sequential).11(ReLU)]2020-02-24 22:47:02\u001b[0m\n",
      "\u001b[96m[BUILD FORWARD][model(AlexNet).features(Sequential).12(MaxPool2d)]2020-02-24 22:47:02\u001b[0m\n",
      "\u001b[96m[BUILD FORWARD][model(AlexNet).avgpool(AdaptiveAvgPool2d)]2020-02-24 22:47:02\u001b[0m\n",
      "\u001b[96m[BUILD FORWARD][model(AlexNet).classifier(Sequential)]2020-02-24 22:47:02\u001b[0m\n",
      "\u001b[96m[BUILD FORWARD][model(AlexNet).classifier(Sequential).0(Dropout)]2020-02-24 22:47:02\u001b[0m\n",
      "\u001b[96m[BUILD FORWARD][model(AlexNet).classifier(Sequential).1(Linear)]2020-02-24 22:47:02\u001b[0m\n",
      "\u001b[96m[BUILD FORWARD][model(AlexNet).classifier(Sequential).2(ReLU)]2020-02-24 22:47:02\u001b[0m\n",
      "\u001b[96m[BUILD FORWARD][model(AlexNet).classifier(Sequential).3(Dropout)]2020-02-24 22:47:02\u001b[0m\n",
      "\u001b[96m[BUILD FORWARD][model(AlexNet).classifier(Sequential).4(Linear)]2020-02-24 22:47:02\u001b[0m\n",
      "\u001b[96m[BUILD FORWARD][model(AlexNet).classifier(Sequential).5(ReLU)]2020-02-24 22:47:02\u001b[0m\n",
      "\u001b[96m[BUILD FORWARD][model(AlexNet).classifier(Sequential).6(Linear)]2020-02-24 22:47:02\u001b[0m\n",
      "\u001b[93m[ARMING][SUCCESS]2020-02-24 22:47:02\u001b[0m\n"
     ]
    }
   ],
   "source": [
    "te.rearm()"
   ]
  },
  {
   "cell_type": "markdown",
   "metadata": {},
   "source": [
    "Run forward pass for 3 iterations, nothing strange happend"
   ]
  },
  {
   "cell_type": "code",
   "execution_count": 21,
   "metadata": {},
   "outputs": [],
   "source": [
    "for i in range(3):\n",
    "    model(samp)"
   ]
  },
  {
   "cell_type": "markdown",
   "metadata": {},
   "source": [
    "### Check snowballing tensor stats"
   ]
  },
  {
   "cell_type": "code",
   "execution_count": 22,
   "metadata": {},
   "outputs": [
    {
     "data": {
      "text/html": [
       "<div>\n",
       "<style scoped>\n",
       "    .dataframe tbody tr th:only-of-type {\n",
       "        vertical-align: middle;\n",
       "    }\n",
       "\n",
       "    .dataframe tbody tr th {\n",
       "        vertical-align: top;\n",
       "    }\n",
       "\n",
       "    .dataframe thead th {\n",
       "        text-align: right;\n",
       "    }\n",
       "</style>\n",
       "<table border=\"1\" class=\"dataframe\">\n",
       "  <thead>\n",
       "    <tr style=\"text-align: right;\">\n",
       "      <th></th>\n",
       "      <th>shape</th>\n",
       "      <th>mean</th>\n",
       "      <th>std</th>\n",
       "      <th>max</th>\n",
       "      <th>min</th>\n",
       "      <th>cnt_zero</th>\n",
       "      <th>module</th>\n",
       "      <th>ts</th>\n",
       "      <th>ttype</th>\n",
       "      <th>tname</th>\n",
       "    </tr>\n",
       "  </thead>\n",
       "  <tbody>\n",
       "    <tr>\n",
       "      <th>0</th>\n",
       "      <td>[2, 3, 224, 224]</td>\n",
       "      <td>-1.000480</td>\n",
       "      <td>0.577501</td>\n",
       "      <td>-0.000004</td>\n",
       "      <td>-1.999992</td>\n",
       "      <td>0</td>\n",
       "      <td>model(AlexNet)</td>\n",
       "      <td>2020-02-24 22:47:04</td>\n",
       "      <td>input</td>\n",
       "      <td>x</td>\n",
       "    </tr>\n",
       "    <tr>\n",
       "      <th>1</th>\n",
       "      <td>[2, 3, 224, 224]</td>\n",
       "      <td>-1.000480</td>\n",
       "      <td>0.577501</td>\n",
       "      <td>-0.000004</td>\n",
       "      <td>-1.999992</td>\n",
       "      <td>0</td>\n",
       "      <td>model(AlexNet).features(Sequential)</td>\n",
       "      <td>2020-02-24 22:47:04</td>\n",
       "      <td>input</td>\n",
       "      <td>input</td>\n",
       "    </tr>\n",
       "    <tr>\n",
       "      <th>2</th>\n",
       "      <td>[2, 3, 224, 224]</td>\n",
       "      <td>-1.000480</td>\n",
       "      <td>0.577501</td>\n",
       "      <td>-0.000004</td>\n",
       "      <td>-1.999992</td>\n",
       "      <td>0</td>\n",
       "      <td>model(AlexNet).features(Sequential).0(Conv2d)</td>\n",
       "      <td>2020-02-24 22:47:04</td>\n",
       "      <td>input</td>\n",
       "      <td>input</td>\n",
       "    </tr>\n",
       "    <tr>\n",
       "      <th>3</th>\n",
       "      <td>[64, 3, 11, 11]</td>\n",
       "      <td>-0.000011</td>\n",
       "      <td>0.030162</td>\n",
       "      <td>0.052484</td>\n",
       "      <td>-0.052475</td>\n",
       "      <td>0</td>\n",
       "      <td>model(AlexNet).features(Sequential).0(Conv2d)</td>\n",
       "      <td>2020-02-24 22:47:04</td>\n",
       "      <td>weight</td>\n",
       "      <td>weight_0</td>\n",
       "    </tr>\n",
       "    <tr>\n",
       "      <th>4</th>\n",
       "      <td>[64]</td>\n",
       "      <td>-0.002946</td>\n",
       "      <td>0.033981</td>\n",
       "      <td>0.050660</td>\n",
       "      <td>-0.052249</td>\n",
       "      <td>0</td>\n",
       "      <td>model(AlexNet).features(Sequential).0(Conv2d)</td>\n",
       "      <td>2020-02-24 22:47:04</td>\n",
       "      <td>weight</td>\n",
       "      <td>weight_1</td>\n",
       "    </tr>\n",
       "    <tr>\n",
       "      <th>...</th>\n",
       "      <td>...</td>\n",
       "      <td>...</td>\n",
       "      <td>...</td>\n",
       "      <td>...</td>\n",
       "      <td>...</td>\n",
       "      <td>...</td>\n",
       "      <td>...</td>\n",
       "      <td>...</td>\n",
       "      <td>...</td>\n",
       "      <td>...</td>\n",
       "    </tr>\n",
       "    <tr>\n",
       "      <th>187</th>\n",
       "      <td>[1000, 4096]</td>\n",
       "      <td>-0.000003</td>\n",
       "      <td>0.009020</td>\n",
       "      <td>0.015625</td>\n",
       "      <td>-0.015625</td>\n",
       "      <td>1</td>\n",
       "      <td>model(AlexNet).classifier(Sequential).6(Linear)</td>\n",
       "      <td>2020-02-24 22:47:06</td>\n",
       "      <td>weight</td>\n",
       "      <td>weight_0</td>\n",
       "    </tr>\n",
       "    <tr>\n",
       "      <th>188</th>\n",
       "      <td>[1000]</td>\n",
       "      <td>-0.000137</td>\n",
       "      <td>0.008945</td>\n",
       "      <td>0.015592</td>\n",
       "      <td>-0.015614</td>\n",
       "      <td>0</td>\n",
       "      <td>model(AlexNet).classifier(Sequential).6(Linear)</td>\n",
       "      <td>2020-02-24 22:47:06</td>\n",
       "      <td>weight</td>\n",
       "      <td>weight_1</td>\n",
       "    </tr>\n",
       "    <tr>\n",
       "      <th>189</th>\n",
       "      <td>[2, 1000]</td>\n",
       "      <td>-0.000115</td>\n",
       "      <td>0.011572</td>\n",
       "      <td>0.037493</td>\n",
       "      <td>-0.043643</td>\n",
       "      <td>0</td>\n",
       "      <td>model(AlexNet).classifier(Sequential).6(Linear)</td>\n",
       "      <td>2020-02-24 22:47:06</td>\n",
       "      <td>output</td>\n",
       "      <td>output_0</td>\n",
       "    </tr>\n",
       "    <tr>\n",
       "      <th>190</th>\n",
       "      <td>[2, 1000]</td>\n",
       "      <td>-0.000115</td>\n",
       "      <td>0.011572</td>\n",
       "      <td>0.037493</td>\n",
       "      <td>-0.043643</td>\n",
       "      <td>0</td>\n",
       "      <td>model(AlexNet).classifier(Sequential)</td>\n",
       "      <td>2020-02-24 22:47:06</td>\n",
       "      <td>output</td>\n",
       "      <td>output_0</td>\n",
       "    </tr>\n",
       "    <tr>\n",
       "      <th>191</th>\n",
       "      <td>[2, 1000]</td>\n",
       "      <td>-0.000115</td>\n",
       "      <td>0.011572</td>\n",
       "      <td>0.037493</td>\n",
       "      <td>-0.043643</td>\n",
       "      <td>0</td>\n",
       "      <td>model(AlexNet)</td>\n",
       "      <td>2020-02-24 22:47:06</td>\n",
       "      <td>output</td>\n",
       "      <td>output_0</td>\n",
       "    </tr>\n",
       "  </tbody>\n",
       "</table>\n",
       "<p>192 rows × 10 columns</p>\n",
       "</div>"
      ],
      "text/plain": [
       "                shape      mean       std       max       min  cnt_zero  \\\n",
       "0    [2, 3, 224, 224] -1.000480  0.577501 -0.000004 -1.999992         0   \n",
       "1    [2, 3, 224, 224] -1.000480  0.577501 -0.000004 -1.999992         0   \n",
       "2    [2, 3, 224, 224] -1.000480  0.577501 -0.000004 -1.999992         0   \n",
       "3     [64, 3, 11, 11] -0.000011  0.030162  0.052484 -0.052475         0   \n",
       "4                [64] -0.002946  0.033981  0.050660 -0.052249         0   \n",
       "..                ...       ...       ...       ...       ...       ...   \n",
       "187      [1000, 4096] -0.000003  0.009020  0.015625 -0.015625         1   \n",
       "188            [1000] -0.000137  0.008945  0.015592 -0.015614         0   \n",
       "189         [2, 1000] -0.000115  0.011572  0.037493 -0.043643         0   \n",
       "190         [2, 1000] -0.000115  0.011572  0.037493 -0.043643         0   \n",
       "191         [2, 1000] -0.000115  0.011572  0.037493 -0.043643         0   \n",
       "\n",
       "                                              module                   ts  \\\n",
       "0                                     model(AlexNet)  2020-02-24 22:47:04   \n",
       "1                model(AlexNet).features(Sequential)  2020-02-24 22:47:04   \n",
       "2      model(AlexNet).features(Sequential).0(Conv2d)  2020-02-24 22:47:04   \n",
       "3      model(AlexNet).features(Sequential).0(Conv2d)  2020-02-24 22:47:04   \n",
       "4      model(AlexNet).features(Sequential).0(Conv2d)  2020-02-24 22:47:04   \n",
       "..                                               ...                  ...   \n",
       "187  model(AlexNet).classifier(Sequential).6(Linear)  2020-02-24 22:47:06   \n",
       "188  model(AlexNet).classifier(Sequential).6(Linear)  2020-02-24 22:47:06   \n",
       "189  model(AlexNet).classifier(Sequential).6(Linear)  2020-02-24 22:47:06   \n",
       "190            model(AlexNet).classifier(Sequential)  2020-02-24 22:47:06   \n",
       "191                                   model(AlexNet)  2020-02-24 22:47:06   \n",
       "\n",
       "      ttype     tname  \n",
       "0     input         x  \n",
       "1     input     input  \n",
       "2     input     input  \n",
       "3    weight  weight_0  \n",
       "4    weight  weight_1  \n",
       "..      ...       ...  \n",
       "187  weight  weight_0  \n",
       "188  weight  weight_1  \n",
       "189  output  output_0  \n",
       "190  output  output_0  \n",
       "191  output  output_0  \n",
       "\n",
       "[192 rows x 10 columns]"
      ]
     },
     "execution_count": 22,
     "metadata": {},
     "output_type": "execute_result"
    }
   ],
   "source": [
    "te.t.df"
   ]
  },
  {
   "cell_type": "markdown",
   "metadata": {},
   "source": [
    "Now let's start record weight grad data, once we use backward(), we'll soon have grad data kick in when next forward pass is called"
   ]
  },
  {
   "cell_type": "markdown",
   "metadata": {},
   "source": [
    "### Track weight gradients"
   ]
  },
  {
   "cell_type": "code",
   "execution_count": 23,
   "metadata": {},
   "outputs": [],
   "source": [
    "for i in range(3):\n",
    "    model(samp).mean().backward()"
   ]
  },
  {
   "cell_type": "markdown",
   "metadata": {},
   "source": [
    "As you can see here, for conv layer, \n",
    "* grad_0 is for the 1st weight grad tensor(weight), \n",
    "* grad_1 is for the 2nd(bias)"
   ]
  },
  {
   "cell_type": "code",
   "execution_count": 24,
   "metadata": {},
   "outputs": [
    {
     "data": {
      "text/html": [
       "<div>\n",
       "<style scoped>\n",
       "    .dataframe tbody tr th:only-of-type {\n",
       "        vertical-align: middle;\n",
       "    }\n",
       "\n",
       "    .dataframe tbody tr th {\n",
       "        vertical-align: top;\n",
       "    }\n",
       "\n",
       "    .dataframe thead th {\n",
       "        text-align: right;\n",
       "    }\n",
       "</style>\n",
       "<table border=\"1\" class=\"dataframe\">\n",
       "  <thead>\n",
       "    <tr style=\"text-align: right;\">\n",
       "      <th></th>\n",
       "      <th>shape</th>\n",
       "      <th>mean</th>\n",
       "      <th>std</th>\n",
       "      <th>max</th>\n",
       "      <th>min</th>\n",
       "      <th>cnt_zero</th>\n",
       "      <th>module</th>\n",
       "      <th>ts</th>\n",
       "      <th>ttype</th>\n",
       "      <th>tname</th>\n",
       "    </tr>\n",
       "  </thead>\n",
       "  <tbody>\n",
       "    <tr>\n",
       "      <th>260</th>\n",
       "      <td>[64, 3, 11, 11]</td>\n",
       "      <td>2.473037e-07</td>\n",
       "      <td>0.000024</td>\n",
       "      <td>0.000094</td>\n",
       "      <td>-0.000094</td>\n",
       "      <td>363</td>\n",
       "      <td>model(AlexNet).features(Sequential).0(Conv2d)</td>\n",
       "      <td>2020-02-24 22:47:19</td>\n",
       "      <td>weight_grad</td>\n",
       "      <td>grad_0</td>\n",
       "    </tr>\n",
       "    <tr>\n",
       "      <th>262</th>\n",
       "      <td>[64]</td>\n",
       "      <td>-2.520948e-07</td>\n",
       "      <td>0.000023</td>\n",
       "      <td>0.000063</td>\n",
       "      <td>-0.000058</td>\n",
       "      <td>1</td>\n",
       "      <td>model(AlexNet).features(Sequential).0(Conv2d)</td>\n",
       "      <td>2020-02-24 22:47:19</td>\n",
       "      <td>weight_grad</td>\n",
       "      <td>grad_1</td>\n",
       "    </tr>\n",
       "    <tr>\n",
       "      <th>270</th>\n",
       "      <td>[192, 64, 5, 5]</td>\n",
       "      <td>-7.922446e-08</td>\n",
       "      <td>0.000016</td>\n",
       "      <td>0.000111</td>\n",
       "      <td>-0.000154</td>\n",
       "      <td>35086</td>\n",
       "      <td>model(AlexNet).features(Sequential).3(Conv2d)</td>\n",
       "      <td>2020-02-24 22:47:19</td>\n",
       "      <td>weight_grad</td>\n",
       "      <td>grad_0</td>\n",
       "    </tr>\n",
       "    <tr>\n",
       "      <th>272</th>\n",
       "      <td>[192]</td>\n",
       "      <td>9.021236e-08</td>\n",
       "      <td>0.000021</td>\n",
       "      <td>0.000055</td>\n",
       "      <td>-0.000088</td>\n",
       "      <td>4</td>\n",
       "      <td>model(AlexNet).features(Sequential).3(Conv2d)</td>\n",
       "      <td>2020-02-24 22:47:19</td>\n",
       "      <td>weight_grad</td>\n",
       "      <td>grad_1</td>\n",
       "    </tr>\n",
       "    <tr>\n",
       "      <th>280</th>\n",
       "      <td>[384, 192, 3, 3]</td>\n",
       "      <td>-2.164734e-07</td>\n",
       "      <td>0.000012</td>\n",
       "      <td>0.000171</td>\n",
       "      <td>-0.000122</td>\n",
       "      <td>162009</td>\n",
       "      <td>model(AlexNet).features(Sequential).6(Conv2d)</td>\n",
       "      <td>2020-02-24 22:47:19</td>\n",
       "      <td>weight_grad</td>\n",
       "      <td>grad_0</td>\n",
       "    </tr>\n",
       "  </tbody>\n",
       "</table>\n",
       "</div>"
      ],
      "text/plain": [
       "                shape          mean       std       max       min  cnt_zero  \\\n",
       "260   [64, 3, 11, 11]  2.473037e-07  0.000024  0.000094 -0.000094       363   \n",
       "262              [64] -2.520948e-07  0.000023  0.000063 -0.000058         1   \n",
       "270   [192, 64, 5, 5] -7.922446e-08  0.000016  0.000111 -0.000154     35086   \n",
       "272             [192]  9.021236e-08  0.000021  0.000055 -0.000088         4   \n",
       "280  [384, 192, 3, 3] -2.164734e-07  0.000012  0.000171 -0.000122    162009   \n",
       "\n",
       "                                            module                   ts  \\\n",
       "260  model(AlexNet).features(Sequential).0(Conv2d)  2020-02-24 22:47:19   \n",
       "262  model(AlexNet).features(Sequential).0(Conv2d)  2020-02-24 22:47:19   \n",
       "270  model(AlexNet).features(Sequential).3(Conv2d)  2020-02-24 22:47:19   \n",
       "272  model(AlexNet).features(Sequential).3(Conv2d)  2020-02-24 22:47:19   \n",
       "280  model(AlexNet).features(Sequential).6(Conv2d)  2020-02-24 22:47:19   \n",
       "\n",
       "           ttype   tname  \n",
       "260  weight_grad  grad_0  \n",
       "262  weight_grad  grad_1  \n",
       "270  weight_grad  grad_0  \n",
       "272  weight_grad  grad_1  \n",
       "280  weight_grad  grad_0  "
      ]
     },
     "execution_count": 24,
     "metadata": {},
     "output_type": "execute_result"
    }
   ],
   "source": [
    "te.t.df[te.t.df[\"ttype\"]==\"weight_grad\"].head()"
   ]
  },
  {
   "cell_type": "markdown",
   "metadata": {},
   "source": [
    "### Module tree json\n",
    "This file will be stored at ```$HOME/.torchember/data/structure_<modelname>_<date>_<time>.json```"
   ]
  },
  {
   "cell_type": "code",
   "execution_count": 25,
   "metadata": {},
   "outputs": [
    {
     "data": {
      "text/plain": [
       "{'name': 'model(AlexNet)',\n",
       " 'short': 'model(AlexNet)',\n",
       " 'children': [{'name': 'model(AlexNet).features(Sequential)',\n",
       "   'short': 'features(Sequential)',\n",
       "   'children': [{'name': 'model(AlexNet).features(Sequential).0(Conv2d)',\n",
       "     'short': '0(Conv2d)'},\n",
       "    {'name': 'model(AlexNet).features(Sequential).1(ReLU)',\n",
       "     'short': '1(ReLU)'},\n",
       "    {'name': 'model(AlexNet).features(Sequential).2(MaxPool2d)',\n",
       "     'short': '2(MaxPool2d)'},\n",
       "    {'name': 'model(AlexNet).features(Sequential).3(Conv2d)',\n",
       "     'short': '3(Conv2d)'},\n",
       "    {'name': 'model(AlexNet).features(Sequential).4(ReLU)',\n",
       "     'short': '4(ReLU)'},\n",
       "    {'name': 'model(AlexNet).features(Sequential).5(MaxPool2d)',\n",
       "     'short': '5(MaxPool2d)'},\n",
       "    {'name': 'model(AlexNet).features(Sequential).6(Conv2d)',\n",
       "     'short': '6(Conv2d)'},\n",
       "    {'name': 'model(AlexNet).features(Sequential).7(ReLU)',\n",
       "     'short': '7(ReLU)'},\n",
       "    {'name': 'model(AlexNet).features(Sequential).8(Conv2d)',\n",
       "     'short': '8(Conv2d)'},\n",
       "    {'name': 'model(AlexNet).features(Sequential).9(ReLU)',\n",
       "     'short': '9(ReLU)'},\n",
       "    {'name': 'model(AlexNet).features(Sequential).10(Conv2d)',\n",
       "     'short': '10(Conv2d)'},\n",
       "    {'name': 'model(AlexNet).features(Sequential).11(ReLU)',\n",
       "     'short': '11(ReLU)'},\n",
       "    {'name': 'model(AlexNet).features(Sequential).12(MaxPool2d)',\n",
       "     'short': '12(MaxPool2d)'}]},\n",
       "  {'name': 'model(AlexNet).avgpool(AdaptiveAvgPool2d)',\n",
       "   'short': 'avgpool(AdaptiveAvgPool2d)'},\n",
       "  {'name': 'model(AlexNet).classifier(Sequential)',\n",
       "   'short': 'classifier(Sequential)',\n",
       "   'children': [{'name': 'model(AlexNet).classifier(Sequential).0(Dropout)',\n",
       "     'short': '0(Dropout)'},\n",
       "    {'name': 'model(AlexNet).classifier(Sequential).1(Linear)',\n",
       "     'short': '1(Linear)'},\n",
       "    {'name': 'model(AlexNet).classifier(Sequential).2(ReLU)',\n",
       "     'short': '2(ReLU)'},\n",
       "    {'name': 'model(AlexNet).classifier(Sequential).3(Dropout)',\n",
       "     'short': '3(Dropout)'},\n",
       "    {'name': 'model(AlexNet).classifier(Sequential).4(Linear)',\n",
       "     'short': '4(Linear)'},\n",
       "    {'name': 'model(AlexNet).classifier(Sequential).5(ReLU)',\n",
       "     'short': '5(ReLU)'},\n",
       "    {'name': 'model(AlexNet).classifier(Sequential).6(Linear)',\n",
       "     'short': '6(Linear)'}]}]}"
      ]
     },
     "execution_count": 25,
     "metadata": {},
     "output_type": "execute_result"
    }
   ],
   "source": [
    "te.mod_tree()"
   ]
  },
  {
   "cell_type": "code",
   "execution_count": 26,
   "metadata": {},
   "outputs": [
    {
     "data": {
      "text/plain": [
       "['enter model(AlexNet)',\n",
       " 'enter model(AlexNet).features(Sequential)',\n",
       " 'enter model(AlexNet).features(Sequential).0(Conv2d)',\n",
       " 'exit model(AlexNet).features(Sequential).0(Conv2d)',\n",
       " 'enter model(AlexNet).features(Sequential).1(ReLU)',\n",
       " 'exit model(AlexNet).features(Sequential).1(ReLU)',\n",
       " 'enter model(AlexNet).features(Sequential).2(MaxPool2d)',\n",
       " 'exit model(AlexNet).features(Sequential).2(MaxPool2d)',\n",
       " 'enter model(AlexNet).features(Sequential).3(Conv2d)',\n",
       " 'exit model(AlexNet).features(Sequential).3(Conv2d)',\n",
       " 'enter model(AlexNet).features(Sequential).4(ReLU)',\n",
       " 'exit model(AlexNet).features(Sequential).4(ReLU)',\n",
       " 'enter model(AlexNet).features(Sequential).5(MaxPool2d)',\n",
       " 'exit model(AlexNet).features(Sequential).5(MaxPool2d)',\n",
       " 'enter model(AlexNet).features(Sequential).6(Conv2d)',\n",
       " 'exit model(AlexNet).features(Sequential).6(Conv2d)',\n",
       " 'enter model(AlexNet).features(Sequential).7(ReLU)',\n",
       " 'exit model(AlexNet).features(Sequential).7(ReLU)',\n",
       " 'enter model(AlexNet).features(Sequential).8(Conv2d)',\n",
       " 'exit model(AlexNet).features(Sequential).8(Conv2d)',\n",
       " 'enter model(AlexNet).features(Sequential).9(ReLU)',\n",
       " 'exit model(AlexNet).features(Sequential).9(ReLU)',\n",
       " 'enter model(AlexNet).features(Sequential).10(Conv2d)',\n",
       " 'exit model(AlexNet).features(Sequential).10(Conv2d)',\n",
       " 'enter model(AlexNet).features(Sequential).11(ReLU)',\n",
       " 'exit model(AlexNet).features(Sequential).11(ReLU)',\n",
       " 'enter model(AlexNet).features(Sequential).12(MaxPool2d)',\n",
       " 'exit model(AlexNet).features(Sequential).12(MaxPool2d)',\n",
       " 'exit model(AlexNet).features(Sequential)',\n",
       " 'enter model(AlexNet).avgpool(AdaptiveAvgPool2d)',\n",
       " 'exit model(AlexNet).avgpool(AdaptiveAvgPool2d)',\n",
       " 'enter model(AlexNet).classifier(Sequential)',\n",
       " 'enter model(AlexNet).classifier(Sequential).0(Dropout)',\n",
       " 'exit model(AlexNet).classifier(Sequential).0(Dropout)',\n",
       " 'enter model(AlexNet).classifier(Sequential).1(Linear)',\n",
       " 'exit model(AlexNet).classifier(Sequential).1(Linear)',\n",
       " 'enter model(AlexNet).classifier(Sequential).2(ReLU)',\n",
       " 'exit model(AlexNet).classifier(Sequential).2(ReLU)',\n",
       " 'enter model(AlexNet).classifier(Sequential).3(Dropout)',\n",
       " 'exit model(AlexNet).classifier(Sequential).3(Dropout)',\n",
       " 'enter model(AlexNet).classifier(Sequential).4(Linear)',\n",
       " 'exit model(AlexNet).classifier(Sequential).4(Linear)',\n",
       " 'enter model(AlexNet).classifier(Sequential).5(ReLU)',\n",
       " 'exit model(AlexNet).classifier(Sequential).5(ReLU)',\n",
       " 'enter model(AlexNet).classifier(Sequential).6(Linear)',\n",
       " 'exit model(AlexNet).classifier(Sequential).6(Linear)',\n",
       " 'exit model(AlexNet).classifier(Sequential)',\n",
       " 'exit model(AlexNet)']"
      ]
     },
     "execution_count": 26,
     "metadata": {},
     "output_type": "execute_result"
    }
   ],
   "source": [
    "te.mt_log"
   ]
  },
  {
   "cell_type": "markdown",
   "metadata": {},
   "source": [
    "### Check latest tensor stats"
   ]
  },
  {
   "cell_type": "code",
   "execution_count": 27,
   "metadata": {},
   "outputs": [
    {
     "data": {
      "text/html": [
       "<div>\n",
       "<style scoped>\n",
       "    .dataframe tbody tr th:only-of-type {\n",
       "        vertical-align: middle;\n",
       "    }\n",
       "\n",
       "    .dataframe tbody tr th {\n",
       "        vertical-align: top;\n",
       "    }\n",
       "\n",
       "    .dataframe thead th {\n",
       "        text-align: right;\n",
       "    }\n",
       "</style>\n",
       "<table border=\"1\" class=\"dataframe\">\n",
       "  <thead>\n",
       "    <tr style=\"text-align: right;\">\n",
       "      <th></th>\n",
       "      <th>shape</th>\n",
       "      <th>mean</th>\n",
       "      <th>std</th>\n",
       "      <th>max</th>\n",
       "      <th>min</th>\n",
       "      <th>cnt_zero</th>\n",
       "      <th>module</th>\n",
       "      <th>ts</th>\n",
       "      <th>ttype</th>\n",
       "      <th>tname</th>\n",
       "    </tr>\n",
       "  </thead>\n",
       "  <tbody>\n",
       "    <tr>\n",
       "      <th>0</th>\n",
       "      <td>[2, 3, 224, 224]</td>\n",
       "      <td>-1.000480e+00</td>\n",
       "      <td>0.577501</td>\n",
       "      <td>-0.000004</td>\n",
       "      <td>-1.999992</td>\n",
       "      <td>0</td>\n",
       "      <td>model(AlexNet)</td>\n",
       "      <td>2020-02-24 22:47:21</td>\n",
       "      <td>input</td>\n",
       "      <td>x</td>\n",
       "    </tr>\n",
       "    <tr>\n",
       "      <th>1</th>\n",
       "      <td>[2, 3, 224, 224]</td>\n",
       "      <td>-1.000480e+00</td>\n",
       "      <td>0.577501</td>\n",
       "      <td>-0.000004</td>\n",
       "      <td>-1.999992</td>\n",
       "      <td>0</td>\n",
       "      <td>model(AlexNet).features(Sequential)</td>\n",
       "      <td>2020-02-24 22:47:21</td>\n",
       "      <td>input</td>\n",
       "      <td>input</td>\n",
       "    </tr>\n",
       "    <tr>\n",
       "      <th>2</th>\n",
       "      <td>[2, 3, 224, 224]</td>\n",
       "      <td>-1.000480e+00</td>\n",
       "      <td>0.577501</td>\n",
       "      <td>-0.000004</td>\n",
       "      <td>-1.999992</td>\n",
       "      <td>0</td>\n",
       "      <td>model(AlexNet).features(Sequential).0(Conv2d)</td>\n",
       "      <td>2020-02-24 22:47:21</td>\n",
       "      <td>input</td>\n",
       "      <td>input</td>\n",
       "    </tr>\n",
       "    <tr>\n",
       "      <th>3</th>\n",
       "      <td>[64, 3, 11, 11]</td>\n",
       "      <td>-1.124644e-05</td>\n",
       "      <td>0.030162</td>\n",
       "      <td>0.052484</td>\n",
       "      <td>-0.052475</td>\n",
       "      <td>0</td>\n",
       "      <td>model(AlexNet).features(Sequential).0(Conv2d)</td>\n",
       "      <td>2020-02-24 22:47:21</td>\n",
       "      <td>weight</td>\n",
       "      <td>weight_0</td>\n",
       "    </tr>\n",
       "    <tr>\n",
       "      <th>4</th>\n",
       "      <td>[64, 3, 11, 11]</td>\n",
       "      <td>7.861846e-07</td>\n",
       "      <td>0.000038</td>\n",
       "      <td>0.000150</td>\n",
       "      <td>-0.000118</td>\n",
       "      <td>363</td>\n",
       "      <td>model(AlexNet).features(Sequential).0(Conv2d)</td>\n",
       "      <td>2020-02-24 22:47:21</td>\n",
       "      <td>weight_grad</td>\n",
       "      <td>grad_0</td>\n",
       "    </tr>\n",
       "    <tr>\n",
       "      <th>...</th>\n",
       "      <td>...</td>\n",
       "      <td>...</td>\n",
       "      <td>...</td>\n",
       "      <td>...</td>\n",
       "      <td>...</td>\n",
       "      <td>...</td>\n",
       "      <td>...</td>\n",
       "      <td>...</td>\n",
       "      <td>...</td>\n",
       "      <td>...</td>\n",
       "    </tr>\n",
       "    <tr>\n",
       "      <th>75</th>\n",
       "      <td>[1000]</td>\n",
       "      <td>-1.374600e-04</td>\n",
       "      <td>0.008945</td>\n",
       "      <td>0.015592</td>\n",
       "      <td>-0.015614</td>\n",
       "      <td>0</td>\n",
       "      <td>model(AlexNet).classifier(Sequential).6(Linear)</td>\n",
       "      <td>2020-02-24 22:47:22</td>\n",
       "      <td>weight</td>\n",
       "      <td>weight_1</td>\n",
       "    </tr>\n",
       "    <tr>\n",
       "      <th>76</th>\n",
       "      <td>[1000]</td>\n",
       "      <td>2.000000e-03</td>\n",
       "      <td>0.000000</td>\n",
       "      <td>0.002000</td>\n",
       "      <td>0.002000</td>\n",
       "      <td>0</td>\n",
       "      <td>model(AlexNet).classifier(Sequential).6(Linear)</td>\n",
       "      <td>2020-02-24 22:47:22</td>\n",
       "      <td>weight_grad</td>\n",
       "      <td>grad_1</td>\n",
       "    </tr>\n",
       "    <tr>\n",
       "      <th>77</th>\n",
       "      <td>[2, 1000]</td>\n",
       "      <td>-3.248150e-04</td>\n",
       "      <td>0.011494</td>\n",
       "      <td>0.040849</td>\n",
       "      <td>-0.037424</td>\n",
       "      <td>0</td>\n",
       "      <td>model(AlexNet).classifier(Sequential).6(Linear)</td>\n",
       "      <td>2020-02-24 22:47:22</td>\n",
       "      <td>output</td>\n",
       "      <td>output_0</td>\n",
       "    </tr>\n",
       "    <tr>\n",
       "      <th>78</th>\n",
       "      <td>[2, 1000]</td>\n",
       "      <td>-3.248150e-04</td>\n",
       "      <td>0.011494</td>\n",
       "      <td>0.040849</td>\n",
       "      <td>-0.037424</td>\n",
       "      <td>0</td>\n",
       "      <td>model(AlexNet).classifier(Sequential)</td>\n",
       "      <td>2020-02-24 22:47:22</td>\n",
       "      <td>output</td>\n",
       "      <td>output_0</td>\n",
       "    </tr>\n",
       "    <tr>\n",
       "      <th>79</th>\n",
       "      <td>[2, 1000]</td>\n",
       "      <td>-3.248150e-04</td>\n",
       "      <td>0.011494</td>\n",
       "      <td>0.040849</td>\n",
       "      <td>-0.037424</td>\n",
       "      <td>0</td>\n",
       "      <td>model(AlexNet)</td>\n",
       "      <td>2020-02-24 22:47:22</td>\n",
       "      <td>output</td>\n",
       "      <td>output_0</td>\n",
       "    </tr>\n",
       "  </tbody>\n",
       "</table>\n",
       "<p>80 rows × 10 columns</p>\n",
       "</div>"
      ],
      "text/plain": [
       "               shape          mean       std       max       min  cnt_zero  \\\n",
       "0   [2, 3, 224, 224] -1.000480e+00  0.577501 -0.000004 -1.999992         0   \n",
       "1   [2, 3, 224, 224] -1.000480e+00  0.577501 -0.000004 -1.999992         0   \n",
       "2   [2, 3, 224, 224] -1.000480e+00  0.577501 -0.000004 -1.999992         0   \n",
       "3    [64, 3, 11, 11] -1.124644e-05  0.030162  0.052484 -0.052475         0   \n",
       "4    [64, 3, 11, 11]  7.861846e-07  0.000038  0.000150 -0.000118       363   \n",
       "..               ...           ...       ...       ...       ...       ...   \n",
       "75            [1000] -1.374600e-04  0.008945  0.015592 -0.015614         0   \n",
       "76            [1000]  2.000000e-03  0.000000  0.002000  0.002000         0   \n",
       "77         [2, 1000] -3.248150e-04  0.011494  0.040849 -0.037424         0   \n",
       "78         [2, 1000] -3.248150e-04  0.011494  0.040849 -0.037424         0   \n",
       "79         [2, 1000] -3.248150e-04  0.011494  0.040849 -0.037424         0   \n",
       "\n",
       "                                             module                   ts  \\\n",
       "0                                    model(AlexNet)  2020-02-24 22:47:21   \n",
       "1               model(AlexNet).features(Sequential)  2020-02-24 22:47:21   \n",
       "2     model(AlexNet).features(Sequential).0(Conv2d)  2020-02-24 22:47:21   \n",
       "3     model(AlexNet).features(Sequential).0(Conv2d)  2020-02-24 22:47:21   \n",
       "4     model(AlexNet).features(Sequential).0(Conv2d)  2020-02-24 22:47:21   \n",
       "..                                              ...                  ...   \n",
       "75  model(AlexNet).classifier(Sequential).6(Linear)  2020-02-24 22:47:22   \n",
       "76  model(AlexNet).classifier(Sequential).6(Linear)  2020-02-24 22:47:22   \n",
       "77  model(AlexNet).classifier(Sequential).6(Linear)  2020-02-24 22:47:22   \n",
       "78            model(AlexNet).classifier(Sequential)  2020-02-24 22:47:22   \n",
       "79                                   model(AlexNet)  2020-02-24 22:47:22   \n",
       "\n",
       "          ttype     tname  \n",
       "0         input         x  \n",
       "1         input     input  \n",
       "2         input     input  \n",
       "3        weight  weight_0  \n",
       "4   weight_grad    grad_0  \n",
       "..          ...       ...  \n",
       "75       weight  weight_1  \n",
       "76  weight_grad    grad_1  \n",
       "77       output  output_0  \n",
       "78       output  output_0  \n",
       "79       output  output_0  \n",
       "\n",
       "[80 rows x 10 columns]"
      ]
     },
     "execution_count": 27,
     "metadata": {},
     "output_type": "execute_result"
    }
   ],
   "source": [
    "te.t.latest_df"
   ]
  },
  {
   "cell_type": "markdown",
   "metadata": {},
   "source": [
    "### Redifine what you want to record"
   ]
  },
  {
   "cell_type": "markdown",
   "metadata": {},
   "source": [
    "For the default statistic function, you can keep track shape, mean, std, max,min of a tensor.\n",
    "\n",
    "The afore-mentioned tensor could mean all of the following\n",
    "* module input tensors\n",
    "* module output tensors\n",
    "* module weight\n",
    "* gradient of module weight\n",
    "\n",
    "If you have more interesting metrics to follow, you can redifine the statistic tracking function"
   ]
  },
  {
   "cell_type": "markdown",
   "metadata": {},
   "source": [
    "#### Redifine the weight tensor/ weight grad tensor  statitic function"
   ]
  },
  {
   "cell_type": "code",
   "execution_count": 28,
   "metadata": {},
   "outputs": [],
   "source": [
    "@te.set_metric(\"weight\")\n",
    "def weight_stats(tensor):\n",
    "    return {\"num\":tensor.numel(),\"row_max\":list(row.max().item() for row in tensor)}"
   ]
  },
  {
   "cell_type": "markdown",
   "metadata": {},
   "source": [
    "#### Redifine the input or output statitic function"
   ]
  },
  {
   "cell_type": "code",
   "execution_count": 29,
   "metadata": {},
   "outputs": [],
   "source": [
    "@te.set_metric(\"in\")\n",
    "def input_stats(tensor):\n",
    "    return {\"num\":tensor.numel(),\"row_min\":list(row.min().item() for row in tensor)}\n",
    "\n",
    "@te.set_metric(\"out\")\n",
    "def output_stats(tensor):\n",
    "    return {\"num\":tensor.numel(),\"row_min\":list(row.min().item() for row in tensor)}"
   ]
  },
  {
   "cell_type": "markdown",
   "metadata": {},
   "source": [
    "Let's give 1 forward pass again"
   ]
  },
  {
   "cell_type": "code",
   "execution_count": 30,
   "metadata": {},
   "outputs": [
    {
     "data": {
      "text/plain": [
       "tensor([[ 1.2442e-02,  2.3200e-04,  6.2544e-03,  ...,  1.4764e-02,\n",
       "          1.2834e-03,  5.8982e-03],\n",
       "        [ 1.7643e-02,  6.4590e-03, -2.7058e-05,  ...,  3.5622e-03,\n",
       "         -1.1052e-03, -1.9941e-03]], grad_fn=<AddmmBackward>)"
      ]
     },
     "execution_count": 30,
     "metadata": {},
     "output_type": "execute_result"
    }
   ],
   "source": [
    "model(samp)"
   ]
  },
  {
   "cell_type": "markdown",
   "metadata": {},
   "source": [
    "The latest stats changed"
   ]
  },
  {
   "cell_type": "code",
   "execution_count": 31,
   "metadata": {},
   "outputs": [
    {
     "data": {
      "text/html": [
       "<div>\n",
       "<style scoped>\n",
       "    .dataframe tbody tr th:only-of-type {\n",
       "        vertical-align: middle;\n",
       "    }\n",
       "\n",
       "    .dataframe tbody tr th {\n",
       "        vertical-align: top;\n",
       "    }\n",
       "\n",
       "    .dataframe thead th {\n",
       "        text-align: right;\n",
       "    }\n",
       "</style>\n",
       "<table border=\"1\" class=\"dataframe\">\n",
       "  <thead>\n",
       "    <tr style=\"text-align: right;\">\n",
       "      <th></th>\n",
       "      <th>num</th>\n",
       "      <th>row_min</th>\n",
       "      <th>module</th>\n",
       "      <th>ts</th>\n",
       "      <th>ttype</th>\n",
       "      <th>tname</th>\n",
       "      <th>row_max</th>\n",
       "    </tr>\n",
       "  </thead>\n",
       "  <tbody>\n",
       "    <tr>\n",
       "      <th>0</th>\n",
       "      <td>301056</td>\n",
       "      <td>[-1.999979019165039, -1.999991774559021]</td>\n",
       "      <td>model(AlexNet)</td>\n",
       "      <td>2020-02-24 22:48:06</td>\n",
       "      <td>input</td>\n",
       "      <td>x</td>\n",
       "      <td>NaN</td>\n",
       "    </tr>\n",
       "    <tr>\n",
       "      <th>1</th>\n",
       "      <td>301056</td>\n",
       "      <td>[-1.999979019165039, -1.999991774559021]</td>\n",
       "      <td>model(AlexNet).features(Sequential)</td>\n",
       "      <td>2020-02-24 22:48:06</td>\n",
       "      <td>input</td>\n",
       "      <td>input</td>\n",
       "      <td>NaN</td>\n",
       "    </tr>\n",
       "    <tr>\n",
       "      <th>2</th>\n",
       "      <td>301056</td>\n",
       "      <td>[-1.999979019165039, -1.999991774559021]</td>\n",
       "      <td>model(AlexNet).features(Sequential).0(Conv2d)</td>\n",
       "      <td>2020-02-24 22:48:06</td>\n",
       "      <td>input</td>\n",
       "      <td>input</td>\n",
       "      <td>NaN</td>\n",
       "    </tr>\n",
       "    <tr>\n",
       "      <th>3</th>\n",
       "      <td>23232</td>\n",
       "      <td>NaN</td>\n",
       "      <td>model(AlexNet).features(Sequential).0(Conv2d)</td>\n",
       "      <td>2020-02-24 22:48:06</td>\n",
       "      <td>weight</td>\n",
       "      <td>weight_0</td>\n",
       "      <td>[0.05245126038789749, 0.0521940216422081, 0.05...</td>\n",
       "    </tr>\n",
       "    <tr>\n",
       "      <th>4</th>\n",
       "      <td>23232</td>\n",
       "      <td>NaN</td>\n",
       "      <td>model(AlexNet).features(Sequential).0(Conv2d)</td>\n",
       "      <td>2020-02-24 22:48:06</td>\n",
       "      <td>weight_grad</td>\n",
       "      <td>grad_0</td>\n",
       "      <td>[8.217657523346134e-07, 4.583279223879799e-05,...</td>\n",
       "    </tr>\n",
       "    <tr>\n",
       "      <th>...</th>\n",
       "      <td>...</td>\n",
       "      <td>...</td>\n",
       "      <td>...</td>\n",
       "      <td>...</td>\n",
       "      <td>...</td>\n",
       "      <td>...</td>\n",
       "      <td>...</td>\n",
       "    </tr>\n",
       "    <tr>\n",
       "      <th>75</th>\n",
       "      <td>1000</td>\n",
       "      <td>NaN</td>\n",
       "      <td>model(AlexNet).classifier(Sequential).6(Linear)</td>\n",
       "      <td>2020-02-24 22:48:07</td>\n",
       "      <td>weight</td>\n",
       "      <td>weight_1</td>\n",
       "      <td>[0.013463851064443588, -0.0014015156775712967,...</td>\n",
       "    </tr>\n",
       "    <tr>\n",
       "      <th>76</th>\n",
       "      <td>1000</td>\n",
       "      <td>NaN</td>\n",
       "      <td>model(AlexNet).classifier(Sequential).6(Linear)</td>\n",
       "      <td>2020-02-24 22:48:07</td>\n",
       "      <td>weight_grad</td>\n",
       "      <td>grad_1</td>\n",
       "      <td>[0.003000000026077032, 0.003000000026077032, 0...</td>\n",
       "    </tr>\n",
       "    <tr>\n",
       "      <th>77</th>\n",
       "      <td>2000</td>\n",
       "      <td>[-0.032634783536195755, -0.03472833335399628]</td>\n",
       "      <td>model(AlexNet).classifier(Sequential).6(Linear)</td>\n",
       "      <td>2020-02-24 22:48:07</td>\n",
       "      <td>output</td>\n",
       "      <td>output_0</td>\n",
       "      <td>NaN</td>\n",
       "    </tr>\n",
       "    <tr>\n",
       "      <th>78</th>\n",
       "      <td>2000</td>\n",
       "      <td>[-0.032634783536195755, -0.03472833335399628]</td>\n",
       "      <td>model(AlexNet).classifier(Sequential)</td>\n",
       "      <td>2020-02-24 22:48:07</td>\n",
       "      <td>output</td>\n",
       "      <td>output_0</td>\n",
       "      <td>NaN</td>\n",
       "    </tr>\n",
       "    <tr>\n",
       "      <th>79</th>\n",
       "      <td>2000</td>\n",
       "      <td>[-0.032634783536195755, -0.03472833335399628]</td>\n",
       "      <td>model(AlexNet)</td>\n",
       "      <td>2020-02-24 22:48:07</td>\n",
       "      <td>output</td>\n",
       "      <td>output_0</td>\n",
       "      <td>NaN</td>\n",
       "    </tr>\n",
       "  </tbody>\n",
       "</table>\n",
       "<p>80 rows × 7 columns</p>\n",
       "</div>"
      ],
      "text/plain": [
       "       num                                        row_min  \\\n",
       "0   301056       [-1.999979019165039, -1.999991774559021]   \n",
       "1   301056       [-1.999979019165039, -1.999991774559021]   \n",
       "2   301056       [-1.999979019165039, -1.999991774559021]   \n",
       "3    23232                                            NaN   \n",
       "4    23232                                            NaN   \n",
       "..     ...                                            ...   \n",
       "75    1000                                            NaN   \n",
       "76    1000                                            NaN   \n",
       "77    2000  [-0.032634783536195755, -0.03472833335399628]   \n",
       "78    2000  [-0.032634783536195755, -0.03472833335399628]   \n",
       "79    2000  [-0.032634783536195755, -0.03472833335399628]   \n",
       "\n",
       "                                             module                   ts  \\\n",
       "0                                    model(AlexNet)  2020-02-24 22:48:06   \n",
       "1               model(AlexNet).features(Sequential)  2020-02-24 22:48:06   \n",
       "2     model(AlexNet).features(Sequential).0(Conv2d)  2020-02-24 22:48:06   \n",
       "3     model(AlexNet).features(Sequential).0(Conv2d)  2020-02-24 22:48:06   \n",
       "4     model(AlexNet).features(Sequential).0(Conv2d)  2020-02-24 22:48:06   \n",
       "..                                              ...                  ...   \n",
       "75  model(AlexNet).classifier(Sequential).6(Linear)  2020-02-24 22:48:07   \n",
       "76  model(AlexNet).classifier(Sequential).6(Linear)  2020-02-24 22:48:07   \n",
       "77  model(AlexNet).classifier(Sequential).6(Linear)  2020-02-24 22:48:07   \n",
       "78            model(AlexNet).classifier(Sequential)  2020-02-24 22:48:07   \n",
       "79                                   model(AlexNet)  2020-02-24 22:48:07   \n",
       "\n",
       "          ttype     tname                                            row_max  \n",
       "0         input         x                                                NaN  \n",
       "1         input     input                                                NaN  \n",
       "2         input     input                                                NaN  \n",
       "3        weight  weight_0  [0.05245126038789749, 0.0521940216422081, 0.05...  \n",
       "4   weight_grad    grad_0  [8.217657523346134e-07, 4.583279223879799e-05,...  \n",
       "..          ...       ...                                                ...  \n",
       "75       weight  weight_1  [0.013463851064443588, -0.0014015156775712967,...  \n",
       "76  weight_grad    grad_1  [0.003000000026077032, 0.003000000026077032, 0...  \n",
       "77       output  output_0                                                NaN  \n",
       "78       output  output_0                                                NaN  \n",
       "79       output  output_0                                                NaN  \n",
       "\n",
       "[80 rows x 7 columns]"
      ]
     },
     "execution_count": 31,
     "metadata": {},
     "output_type": "execute_result"
    }
   ],
   "source": [
    "te.t.latest_df"
   ]
  },
  {
   "cell_type": "markdown",
   "metadata": {},
   "source": [
    "## Placing tracker on variables\n",
    "To be experimented here"
   ]
  },
  {
   "cell_type": "code",
   "execution_count": 32,
   "metadata": {},
   "outputs": [],
   "source": [
    "w = list(model.features.parameters())[0]"
   ]
  },
  {
   "cell_type": "code",
   "execution_count": 33,
   "metadata": {},
   "outputs": [],
   "source": [
    "from types import BuiltinMethodType,BuiltinFunctionType"
   ]
  },
  {
   "cell_type": "code",
   "execution_count": 34,
   "metadata": {
    "scrolled": true
   },
   "outputs": [],
   "source": [
    "x1 = torch.rand(5,6)\n",
    "x2 = torch.rand(5,6)\n",
    "x3 = x1*6+x2"
   ]
  },
  {
   "cell_type": "code",
   "execution_count": 35,
   "metadata": {},
   "outputs": [
    {
     "data": {
      "text/plain": [
       "30"
      ]
     },
     "execution_count": 35,
     "metadata": {},
     "output_type": "execute_result"
    }
   ],
   "source": [
    "x2.numel()"
   ]
  },
  {
   "cell_type": "code",
   "execution_count": 36,
   "metadata": {},
   "outputs": [
    {
     "data": {
      "text/plain": [
       "tensor([[0.2660, 0.9816, 0.9402, 0.9817, 0.0382, 0.7806],\n",
       "        [0.1407, 0.5267, 0.8065, 0.2384, 0.5621, 0.6195],\n",
       "        [0.5146, 0.7612, 0.1067, 0.1149, 0.8720, 0.2196],\n",
       "        [0.3673, 0.4999, 0.9720, 0.8592, 0.3099, 0.2564],\n",
       "        [0.3932, 0.7050, 0.1794, 0.2110, 0.4561, 0.9326]])"
      ]
     },
     "execution_count": 36,
     "metadata": {},
     "output_type": "execute_result"
    }
   ],
   "source": [
    "x1.abs_()"
   ]
  },
  {
   "cell_type": "code",
   "execution_count": 37,
   "metadata": {},
   "outputs": [],
   "source": [
    "from types import MethodType"
   ]
  },
  {
   "cell_type": "code",
   "execution_count": 38,
   "metadata": {},
   "outputs": [],
   "source": [
    "import inspect"
   ]
  },
  {
   "cell_type": "code",
   "execution_count": 39,
   "metadata": {},
   "outputs": [],
   "source": [
    "def TorchTensorEmber(x):\n",
    "    class TensorEmber(x.__class__):\n",
    "        def __init__(self,x):\n",
    "            self.host_ = x\n",
    "            attrs = dir(x)\n",
    "            for attr in attrs:\n",
    "                self.super_attr(attr)\n",
    "            \n",
    "        def super_attr(self,attr):\n",
    "            if inspect.isbuiltin(getattr(self.host_,attr))==False: return \n",
    "            def func(self,*args,**kwargs):\n",
    "                print(attr)\n",
    "                return getattr(super(),attr)(*args,**kwargs)\n",
    "            func.__name__ = attr\n",
    "            setattr(self,attr, MethodType(func,self))\n",
    "            return func\n",
    "            \n",
    "    return TensorEmber(x)"
   ]
  },
  {
   "cell_type": "code",
   "execution_count": 40,
   "metadata": {},
   "outputs": [],
   "source": [
    "x2 = TorchTensorEmber(x2)"
   ]
  },
  {
   "cell_type": "code",
   "execution_count": 41,
   "metadata": {},
   "outputs": [
    {
     "name": "stdout",
     "output_type": "stream",
     "text": [
      "add\n"
     ]
    },
    {
     "data": {
      "text/plain": [
       "tensor([[0.9676, 1.0208, 1.0302, 1.8530, 0.4761, 1.5738],\n",
       "        [0.2713, 1.3983, 1.7669, 0.5223, 0.7321, 1.4964],\n",
       "        [0.7421, 1.5497, 0.8475, 0.9706, 1.1351, 1.0011],\n",
       "        [0.7293, 1.2904, 1.6976, 1.6464, 0.3426, 0.6262],\n",
       "        [0.7965, 1.2458, 0.7171, 0.7595, 0.6588, 1.0484]])"
      ]
     },
     "execution_count": 41,
     "metadata": {},
     "output_type": "execute_result"
    }
   ],
   "source": [
    "x2.add(x1)"
   ]
  },
  {
   "cell_type": "code",
   "execution_count": 42,
   "metadata": {},
   "outputs": [
    {
     "data": {
      "text/plain": [
       "tensor([[0.9676, 1.0208, 1.0302, 1.8530, 0.4761, 1.5738],\n",
       "        [0.2713, 1.3983, 1.7669, 0.5223, 0.7321, 1.4964],\n",
       "        [0.7421, 1.5497, 0.8475, 0.9706, 1.1351, 1.0011],\n",
       "        [0.7293, 1.2904, 1.6976, 1.6464, 0.3426, 0.6262],\n",
       "        [0.7965, 1.2458, 0.7171, 0.7595, 0.6588, 1.0484]])"
      ]
     },
     "execution_count": 42,
     "metadata": {},
     "output_type": "execute_result"
    }
   ],
   "source": [
    "x2+x1"
   ]
  },
  {
   "cell_type": "markdown",
   "metadata": {},
   "source": [
    "## Placing tracker on optimizer\n",
    "To be experimented here"
   ]
  }
 ],
 "metadata": {
  "kernelspec": {
   "display_name": "Python 3",
   "language": "python",
   "name": "python3"
  },
  "language_info": {
   "codemirror_mode": {
    "name": "ipython",
    "version": 3
   },
   "file_extension": ".py",
   "mimetype": "text/x-python",
   "name": "python",
   "nbconvert_exporter": "python",
   "pygments_lexer": "ipython3",
   "version": "3.7.4"
  }
 },
 "nbformat": 4,
 "nbformat_minor": 2
}
